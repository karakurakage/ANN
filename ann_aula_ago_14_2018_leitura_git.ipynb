{
  "nbformat": 4,
  "nbformat_minor": 0,
  "metadata": {
    "colab": {
      "name": "ann_aula_ago_14_2018_leitura_git.ipynb",
      "version": "0.3.2",
      "provenance": []
    },
    "kernelspec": {
      "name": "python3",
      "display_name": "Python 3"
    }
  },
  "cells": [
    {
      "metadata": {
        "id": "Zhl3xRU0VaKp",
        "colab_type": "code",
        "colab": {
          "base_uri": "https://localhost:8080/",
          "height": 34
        },
        "outputId": "8b3bb480-fb27-4471-be74-d33c3cd268fe"
      },
      "cell_type": "code",
      "source": [
        "!git clone https://github.com/ucfilho/ANN"
      ],
      "execution_count": 5,
      "outputs": [
        {
          "output_type": "stream",
          "text": [
            "fatal: destination path 'ANN' already exists and is not an empty directory.\r\n"
          ],
          "name": "stdout"
        }
      ]
    },
    {
      "metadata": {
        "id": "4aiLciTZV6aR",
        "colab_type": "code",
        "colab": {
          "base_uri": "https://localhost:8080/",
          "height": 34
        },
        "outputId": "60c63ddb-7835-4004-a7ad-bdb62cff3d29"
      },
      "cell_type": "code",
      "source": [
        "%cd ANN"
      ],
      "execution_count": 11,
      "outputs": [
        {
          "output_type": "stream",
          "text": [
            "/content/ANN\n"
          ],
          "name": "stdout"
        }
      ]
    },
    {
      "metadata": {
        "id": "foTBDUzHXwPl",
        "colab_type": "code",
        "colab": {
          "base_uri": "https://localhost:8080/",
          "height": 52
        },
        "outputId": "8ae75095-7539-419a-9ebc-d23d55b74772"
      },
      "cell_type": "code",
      "source": [
        "! ls"
      ],
      "execution_count": 12,
      "outputs": [
        {
          "output_type": "stream",
          "text": [
            "FAULT_DIAGNOSIS_maio_25_2017.txt      Paper_Carvao_China_mar_31_2016.txt\r\n",
            "Paper_Carvao_China_abril_12_2016.csv  README.md\r\n"
          ],
          "name": "stdout"
        }
      ]
    },
    {
      "metadata": {
        "id": "q-bS9v2lXJxG",
        "colab_type": "code",
        "colab": {}
      },
      "cell_type": "code",
      "source": [
        "import numpy as np\n",
        "import pandas as pd\n",
        "import matplotlib.pyplot as plt"
      ],
      "execution_count": 0,
      "outputs": []
    },
    {
      "metadata": {
        "id": "PyIgdcMLWsgK",
        "colab_type": "code",
        "colab": {}
      },
      "cell_type": "code",
      "source": [
        "DAT=pd.read_csv(\"FAULT_DIAGNOSIS_maio_25_2017.txt\",sep='\\t')"
      ],
      "execution_count": 0,
      "outputs": []
    },
    {
      "metadata": {
        "id": "XBkoS11jX5Ry",
        "colab_type": "code",
        "colab": {
          "base_uri": "https://localhost:8080/",
          "height": 122
        },
        "outputId": "5e857634-07f6-4dc2-a49c-073d5930ea46"
      },
      "cell_type": "code",
      "source": [
        "print(DAT.head())"
      ],
      "execution_count": 15,
      "outputs": [
        {
          "output_type": "stream",
          "text": [
            "    TF    P  Flow  Y1  Y2  Y3\n",
            "0  400  100   200   0   0   0\n",
            "1  420  100   200   0   0   0\n",
            "2  380  100   200   0   0   0\n",
            "3  400  100   200   0   0   0\n",
            "4  400   90   200   0   0   0\n"
          ],
          "name": "stdout"
        }
      ]
    },
    {
      "metadata": {
        "id": "p5gNrHknYRES",
        "colab_type": "code",
        "colab": {
          "base_uri": "https://localhost:8080/",
          "height": 316
        },
        "outputId": "29a3c570-384c-43fd-8e74-ec359dfa8b58"
      },
      "cell_type": "code",
      "source": [
        "print(DAT)"
      ],
      "execution_count": 16,
      "outputs": [
        {
          "output_type": "stream",
          "text": [
            "     TF    P  Flow  Y1  Y2  Y3\n",
            "0   400  100   200   0   0   0\n",
            "1   420  100   200   0   0   0\n",
            "2   380  100   200   0   0   0\n",
            "3   400  100   200   0   0   0\n",
            "4   400   90   200   0   0   0\n",
            "5   400  100   220   0   0   0\n",
            "6   400  100   180   0   0   0\n",
            "7   300  100   200   1   0   0\n",
            "8   325   90   200   1   0   0\n",
            "9   350   80   200   1   0   0\n",
            "10  370  100   200   1   0   0\n",
            "11  380  100   180   1   0   0\n",
            "12  400  100   250   0   1   0\n",
            "13  400  100   230   0   1   0\n",
            "14  550  100   200   0   0   1\n",
            "15  525  100   180   0   0   1\n"
          ],
          "name": "stdout"
        }
      ]
    }
  ]
}