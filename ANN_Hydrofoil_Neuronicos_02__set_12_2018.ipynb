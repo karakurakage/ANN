{
 "cells": [
  {
   "cell_type": "code",
   "execution_count": 1,
   "metadata": {},
   "outputs": [],
   "source": [
    "# bibliotecas usadas\n",
    "import os\n",
    "import numpy as np\n",
    "import pandas as pd\n",
    "import matplotlib.pyplot as plt\n",
    "from sklearn.neural_network import MLPRegressor\n",
    "from sklearn.metrics import mean_squared_error\n",
    "from sklearn.metrics import r2_score "
   ]
  },
  {
   "cell_type": "code",
   "execution_count": 2,
   "metadata": {},
   "outputs": [],
   "source": [
    "# para gerar o grafico no browser\n",
    "%matplotlib inline"
   ]
  },
  {
   "cell_type": "code",
   "execution_count": 3,
   "metadata": {},
   "outputs": [],
   "source": [
    "# local dos dados e modifica o diretorio\n",
    "path='/home/ucfilho/Documents/Aulas/Ago_29_2018'\n",
    "os.chdir(path)"
   ]
  },
  {
   "cell_type": "code",
   "execution_count": 4,
   "metadata": {},
   "outputs": [],
   "source": [
    "# leitura dos dados\n",
    "DAT=pd.read_csv(\"Hydrofoil_ago_29_2018.csv\")\n",
    "#DAT=pd.read_csv(\"Hydrofoil_ago_29_2018.csv\",index_col=\"emit\")"
   ]
  },
  {
   "cell_type": "code",
   "execution_count": 5,
   "metadata": {},
   "outputs": [],
   "source": [
    "# separa as colunas de interesse\n",
    "Index=[2,3,4,5,6,7]\n",
    "Dat_Select=[]\n",
    "Dat_Select=DAT.iloc[:,Index].copy()"
   ]
  },
  {
   "cell_type": "code",
   "execution_count": 6,
   "metadata": {},
   "outputs": [],
   "source": [
    "# funcao normatiza dados\n",
    "def Normatiza(x):\n",
    "    strings=list(x)\n",
    "    for i in strings:\n",
    "        max_x=x[i].max()\n",
    "        min_x=x[i].min()\n",
    "        a=(max_x+min_x)/2\n",
    "        b=(max_x-min_x)/2\n",
    "        x[i]=(x[i]-a)/b\n",
    "    return x"
   ]
  },
  {
   "cell_type": "code",
   "execution_count": 7,
   "metadata": {},
   "outputs": [],
   "source": [
    "# funcao retorna os dados a forma original\n",
    "def Original(x,x_old):\n",
    "    strings=list(x)\n",
    "    for i in strings:\n",
    "        max_x=x_old[i].max()\n",
    "        min_x=x_old[i].min()\n",
    "        a=(max_x+min_x)/2\n",
    "        b=(max_x-min_x)/2\n",
    "        x[i]=x[i]*b+a\n",
    "    return x"
   ]
  },
  {
   "cell_type": "code",
   "execution_count": 8,
   "metadata": {},
   "outputs": [],
   "source": [
    "# separa os dados em normatizados e originais\n",
    "DAT_OLD=[]\n",
    "DAT_OLD=Dat_Select.copy()\n",
    "DAT=Normatiza(Dat_Select)"
   ]
  },
  {
   "cell_type": "code",
   "execution_count": 9,
   "metadata": {},
   "outputs": [],
   "source": [
    "# separa os dados em treino e teste\n",
    "train=DAT.sample(frac=0.8,random_state=None) # poderia ser frac=0.5? sim ou nao?\n",
    "test=DAT.drop(train.index)"
   ]
  },
  {
   "cell_type": "code",
   "execution_count": 10,
   "metadata": {},
   "outputs": [],
   "source": [
    "# obtem as variaveis independentes (treino e teste)\n",
    "x_train=train.iloc[:,[0,1]]\n",
    "x_test=test.iloc[:,[0,1]]\n",
    "X_OLD=DAT_OLD.iloc[:,[0,1]]"
   ]
  },
  {
   "cell_type": "code",
   "execution_count": 11,
   "metadata": {},
   "outputs": [],
   "source": [
    "# obtem as variaveis dependentes (treino e teste)\n",
    "Index=[2,3,4,5]\n",
    "y_train=train.iloc[:,Index]\n",
    "y_test=test.iloc[:,Index]\n",
    "Y_OLD=DAT_OLD.iloc[:,Index]"
   ]
  },
  {
   "cell_type": "code",
   "execution_count": 12,
   "metadata": {},
   "outputs": [],
   "source": [
    "def rede(i,j):\n",
    "    clf = MLPRegressor(solver='lbfgs',activation='tanh',alpha=1e-5,\n",
    "                       hidden_layer_sizes=(i, j),random_state=1)\n",
    "    return clf"
   ]
  },
  {
   "cell_type": "code",
   "execution_count": 13,
   "metadata": {},
   "outputs": [
    {
     "name": "stdout",
     "output_type": "stream",
     "text": [
      "MSE teste= 1200720373.98\n",
      "R^2 teste= -60710.1824672\n",
      "MSE teste= 1200720478.2\n",
      "R^2 teste= -60710.1877367\n",
      "MSE teste= 1200691075.49\n",
      "R^2 teste= -60708.701068\n",
      "MSE teste= 1148716954.21\n",
      "R^2 teste= -58080.7700121\n",
      "MSE teste= 1200719826.15\n",
      "R^2 teste= -60710.1547677\n",
      "MSE teste= 1037933348.41\n",
      "R^2 teste= -52479.2962204\n",
      "MSE teste= 1200720417.27\n",
      "R^2 teste= -60710.1846562\n",
      "MSE teste= 1200719967.41\n",
      "R^2 teste= -60710.1619103\n",
      "MSE teste= 1200720416.85\n",
      "R^2 teste= -60710.1846347\n",
      "MSE teste= 1200720474.29\n",
      "R^2 teste= -60710.1875392\n",
      "MSE teste= 1200713960.96\n",
      "R^2 teste= -60709.8582103\n",
      "MSE teste= 1200720433.29\n",
      "R^2 teste= -60710.185466\n",
      "MSE teste= 1200720323.48\n",
      "R^2 teste= -60710.1799139\n",
      "MSE teste= 1200720375.52\n",
      "R^2 teste= -60710.1825451\n",
      "MSE teste= 1200720354.6\n",
      "R^2 teste= -60710.1814874\n",
      "MSE teste= 1200720375.64\n",
      "R^2 teste= -60710.1825509\n",
      "MSE teste= 1200720402.35\n",
      "R^2 teste= -60710.1839016\n",
      "MSE teste= 1989857131.63\n",
      "R^2 teste= -100610.751095\n",
      "MSE teste= 2447426786.07\n",
      "R^2 teste= -123746.524739\n",
      "MSE teste= 1200720440.95\n",
      "R^2 teste= -60710.1858536\n",
      "MSE teste= 1200720285.33\n",
      "R^2 teste= -60710.177985\n",
      "MSE teste= 1200720374.86\n",
      "R^2 teste= -60710.1825119\n",
      "MSE teste= 1200720338.89\n",
      "R^2 teste= -60710.1806931\n",
      "MSE teste= 1200720185.59\n",
      "R^2 teste= -60710.1729418\n",
      "MSE teste= 1200720563.44\n",
      "R^2 teste= -60710.1920465\n",
      "MSE teste= 1200720452.49\n",
      "R^2 teste= -60710.1864368\n",
      "MSE teste= 1200720391.98\n",
      "R^2 teste= -60710.1833771\n",
      "MSE teste= 1200720453.32\n",
      "R^2 teste= -60710.1864788\n",
      "MSE teste= 1321313142.36\n",
      "R^2 teste= -66807.6300693\n",
      "MSE teste= 1188810030.2\n",
      "R^2 teste= -60107.9681049\n",
      "MSE teste= 1200720434.55\n",
      "R^2 teste= -60710.1855296\n",
      "MSE teste= 1200720256.56\n",
      "R^2 teste= -60710.17653\n",
      "MSE teste= 1200720978.2\n",
      "R^2 teste= -60710.2130177\n",
      "MSE teste= 1200720436.3\n",
      "R^2 teste= -60710.1856182\n",
      "MSE teste= 1200720366.94\n",
      "R^2 teste= -60710.1821112\n",
      "MSE teste= 1200720356.86\n",
      "R^2 teste= -60710.1816016\n",
      "MSE teste= 1200720440.79\n",
      "R^2 teste= -60710.1858454\n",
      "MSE teste= 1200720247.71\n",
      "R^2 teste= -60710.1760828\n",
      "MSE teste= 1381256009.25\n",
      "R^2 teste= -69838.4792235\n",
      "MSE teste= 1200720796.53\n",
      "R^2 teste= -60710.2038325\n",
      "MSE teste= 1200720383.72\n",
      "R^2 teste= -60710.1829595\n",
      "MSE teste= 1200722877.45\n",
      "R^2 teste= -60710.3090483\n",
      "MSE teste= 1200719673.24\n",
      "R^2 teste= -60710.1470361\n",
      "MSE teste= 1200721157.78\n",
      "R^2 teste= -60710.222098\n",
      "MSE teste= 1200720396.01\n",
      "R^2 teste= -60710.1835808\n",
      "MSE teste= 1257846077.36\n",
      "R^2 teste= -63598.5893574\n",
      "MSE teste= 1200720274.98\n",
      "R^2 teste= -60710.1774615\n",
      "MSE teste= 1253425562.56\n",
      "R^2 teste= -63375.0779667\n",
      "MSE teste= 1362620937.21\n",
      "R^2 teste= -68896.2471404\n",
      "MSE teste= 1253411744.43\n",
      "R^2 teste= -63374.3792904\n",
      "MSE teste= 1200720405.78\n",
      "R^2 teste= -60710.1840749\n",
      "MSE teste= 1708791602.08\n",
      "R^2 teste= -86399.4317745\n",
      "MSE teste= 1200720348.87\n",
      "R^2 teste= -60710.1811975\n",
      "MSE teste= 1200720798.79\n",
      "R^2 teste= -60710.2039464\n",
      "MSE teste= 1121406976.49\n",
      "R^2 teste= -56699.9147552\n",
      "MSE teste= 1205422617.0\n",
      "R^2 teste= -60947.9386843\n",
      "MSE teste= 1200720346.74\n",
      "R^2 teste= -60710.1810898\n",
      "MSE teste= 1200682560.91\n",
      "R^2 teste= -60708.2705514\n",
      "MSE teste= 1200720722.07\n",
      "R^2 teste= -60710.2000675\n",
      "MSE teste= 1200720192.66\n",
      "R^2 teste= -60710.1732993\n",
      "MSE teste= 1200720384.57\n",
      "R^2 teste= -60710.1830029\n",
      "MSE teste= 1200720354.2\n",
      "R^2 teste= -60710.1814671\n",
      "MSE teste= 1200720196.57\n",
      "R^2 teste= -60710.1734969\n",
      "MSE teste= 2281776890.02\n",
      "R^2 teste= -115370.885179\n",
      "MSE teste= 1200719699.74\n",
      "R^2 teste= -60710.1483761\n",
      "MSE teste= 1200720451.03\n",
      "R^2 teste= -60710.1863629\n",
      "MSE teste= 1200720404.04\n",
      "R^2 teste= -60710.1839872\n",
      "MSE teste= 939898338.953\n",
      "R^2 teste= -47522.4207675\n",
      "MSE teste= 1200720376.68\n",
      "R^2 teste= -60710.1826039\n",
      "MSE teste= 1200720391.53\n",
      "R^2 teste= -60710.1833543\n",
      "MSE teste= 1200720427.74\n",
      "R^2 teste= -60710.1851853\n",
      "MSE teste= 1084617508.26\n",
      "R^2 teste= -54839.7546652\n",
      "MSE teste= 1316614177.17\n",
      "R^2 teste= -66570.039587\n",
      "MSE teste= 1881809934.7\n",
      "R^2 teste= -95147.6364269\n",
      "MSE teste= 1200720384.02\n",
      "R^2 teste= -60710.1829747\n",
      "MSE teste= 1253273086.56\n",
      "R^2 teste= -63367.3684296\n",
      "MSE teste= 1200720376.81\n",
      "R^2 teste= -60710.1826103\n",
      "MSE teste= 1384848367.72\n",
      "R^2 teste= -70020.1171262\n",
      "MSE teste= 1200720377.33\n",
      "R^2 teste= -60710.1826367\n",
      "MSE teste= 1125487810.18\n",
      "R^2 teste= -56906.2510878\n",
      "MSE teste= 1282574023.38\n",
      "R^2 teste= -64848.8911558\n"
     ]
    }
   ],
   "source": [
    "N=10\n",
    "M=10\n",
    "test=[]\n",
    "train=[]\n",
    "train=Original(y_train,Y_OLD)\n",
    "test=Original(y_test,Y_OLD)\n",
    "col_names=list(y_train)\n",
    "for i in range(1,N):\n",
    "    for j in range(1,M):\n",
    "        clf=rede(i,j)\n",
    "        clf.fit(x_train, y_train)\n",
    "        y_calc_train=clf.predict(x_train)\n",
    "        y_calc_test=clf.predict(x_test)\n",
    "        y_calc_train=pd.DataFrame(y_calc_train)\n",
    "        y_calc_test=pd.DataFrame(y_calc_test)\n",
    "        y_calc_train.columns = col_names\n",
    "        y_calc_test.columns = col_names\n",
    "        y_calc_train=Original(y_calc_train,Y_OLD)\n",
    "        y_calc_test=Original(y_calc_test,Y_OLD)\n",
    "        resist_obs_train=[]\n",
    "        resist_calc_train=[]\n",
    "        resist_calc_train=y_calc_train['Resistence'].copy()\n",
    "        resist_obs_train=train['Resistence'].copy()\n",
    "        resist_obs_test=[]\n",
    "        resist_calc_test=[]\n",
    "        resist_calc_test=y_calc_test['Resistence'].copy()\n",
    "        resist_obs_test=test['Resistence'].copy()\n",
    "        mse=mean_squared_error(resist_obs_test,resist_calc_test)\n",
    "        print(\"MSE teste=\",mse)\n",
    "        R2=r2_score(resist_obs_test,resist_calc_test)\n",
    "        print(\"R^2 teste=\",R2)\n",
    "        "
   ]
  },
  {
   "cell_type": "code",
   "execution_count": 14,
   "metadata": {},
   "outputs": [],
   "source": [
    "# recupera os dados originais \n"
   ]
  },
  {
   "cell_type": "code",
   "execution_count": 15,
   "metadata": {},
   "outputs": [],
   "source": [
    "# escolhe uma das resposta para fazer o grafico (resistencia-treino)\n"
   ]
  },
  {
   "cell_type": "code",
   "execution_count": 16,
   "metadata": {},
   "outputs": [],
   "source": [
    "# escolhe uma das resposta para fazer o grafico (resistencia-teste)\n"
   ]
  }
 ],
 "metadata": {
  "kernelspec": {
   "display_name": "Python 3",
   "language": "python",
   "name": "python3"
  },
  "language_info": {
   "codemirror_mode": {
    "name": "ipython",
    "version": 3
   },
   "file_extension": ".py",
   "mimetype": "text/x-python",
   "name": "python",
   "nbconvert_exporter": "python",
   "pygments_lexer": "ipython3",
   "version": "3.5.4"
  }
 },
 "nbformat": 4,
 "nbformat_minor": 2
}
