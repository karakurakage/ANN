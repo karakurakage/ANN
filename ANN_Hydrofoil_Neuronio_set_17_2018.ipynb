{
 "cells": [
  {
   "cell_type": "code",
   "execution_count": 1,
   "metadata": {},
   "outputs": [],
   "source": [
    "# bibliotecas usadas\n",
    "import os\n",
    "import numpy as np\n",
    "import pandas as pd\n",
    "import matplotlib.pyplot as plt\n",
    "from sklearn.neural_network import MLPRegressor\n",
    "from sklearn.metrics import mean_squared_error\n",
    "from sklearn.metrics import r2_score "
   ]
  },
  {
   "cell_type": "code",
   "execution_count": 2,
   "metadata": {},
   "outputs": [],
   "source": [
    "# para gerar o grafico no browser\n",
    "%matplotlib inline"
   ]
  },
  {
   "cell_type": "code",
   "execution_count": 3,
   "metadata": {},
   "outputs": [],
   "source": [
    "# local dos dados e modifica o diretorio\n",
    "path='/home/ucfilho/Documents/Aulas/Ago_29_2018'\n",
    "os.chdir(path)"
   ]
  },
  {
   "cell_type": "code",
   "execution_count": 4,
   "metadata": {},
   "outputs": [],
   "source": [
    "# leitura dos dados\n",
    "DAT=pd.read_csv(\"Hydrofoil_ago_29_2018.csv\")\n",
    "#DAT=pd.read_csv(\"Hydrofoil_ago_29_2018.csv\",index_col=\"emit\")"
   ]
  },
  {
   "cell_type": "code",
   "execution_count": 5,
   "metadata": {},
   "outputs": [],
   "source": [
    "# separa as colunas de interesse\n",
    "Index=[2,3,4,5,6,7]\n",
    "Dat_Select=[]\n",
    "Dat_Select=DAT.iloc[:,Index].copy()"
   ]
  },
  {
   "cell_type": "code",
   "execution_count": 6,
   "metadata": {},
   "outputs": [],
   "source": [
    "# funcao normatiza dados\n",
    "def Normatiza(x):\n",
    "    strings=list(x)\n",
    "    for i in strings:\n",
    "        max_x=x[i].max()\n",
    "        min_x=x[i].min()\n",
    "        a=(max_x+min_x)/2\n",
    "        b=(max_x-min_x)/2\n",
    "        x[i]=(x[i]-a)/b\n",
    "    return x"
   ]
  },
  {
   "cell_type": "code",
   "execution_count": 7,
   "metadata": {},
   "outputs": [],
   "source": [
    "# funcao retorna os dados a forma original\n",
    "def Original(x,x_old):\n",
    "    strings=list(x)\n",
    "    for i in strings:\n",
    "        max_x=x_old[i].max()\n",
    "        min_x=x_old[i].min()\n",
    "        a=(max_x+min_x)/2\n",
    "        b=(max_x-min_x)/2\n",
    "        x[i]=x[i]*b+a\n",
    "    return x"
   ]
  },
  {
   "cell_type": "code",
   "execution_count": 8,
   "metadata": {},
   "outputs": [],
   "source": [
    "# separa os dados em normatizados e originais\n",
    "DAT_OLD=[]\n",
    "DAT_OLD=Dat_Select.copy()\n",
    "DAT=Normatiza(Dat_Select)"
   ]
  },
  {
   "cell_type": "code",
   "execution_count": 9,
   "metadata": {},
   "outputs": [
    {
     "name": "stdout",
     "output_type": "stream",
     "text": [
      "    Hydrofoil    Froude  Resistence   Sinkage      Trim     Power\n",
      "42   0.333333  0.728608    0.572917  0.758551  0.371806  0.359479\n",
      "48   1.000000 -0.481417   -0.278646 -0.671829  0.719959 -0.812959\n",
      "52   1.000000  0.210026   -0.015625  0.624976  0.511409 -0.404440\n",
      "31   0.333333 -1.000000   -1.000000 -0.883085 -1.000000 -1.000000\n",
      "11  -1.000000  0.210026    0.332812  0.151034  0.786861 -0.193631\n"
     ]
    }
   ],
   "source": [
    "# separa os dados em treino e teste\n",
    "train=[]\n",
    "test=[]\n",
    "train=DAT.sample(frac=0.8,random_state=None).copy() # poderia ser frac=0.5? sim ou nao?\n",
    "test=DAT.drop(train.index).copy()\n",
    "print(train.head())"
   ]
  },
  {
   "cell_type": "code",
   "execution_count": 10,
   "metadata": {},
   "outputs": [],
   "source": [
    "# obtem as variaveis independentes (treino e teste)\n",
    "x_train=train.iloc[:,[0,1]]\n",
    "x_test=test.iloc[:,[0,1]]\n",
    "X_OLD=DAT_OLD.iloc[:,[0,1]]"
   ]
  },
  {
   "cell_type": "code",
   "execution_count": 11,
   "metadata": {},
   "outputs": [],
   "source": [
    "# obtem as variaveis dependentes (treino e teste)\n",
    "Index=[2,3,4,5]\n",
    "y_train=train.iloc[:,Index]\n",
    "y_test=test.iloc[:,Index]\n",
    "Y_OLD=DAT_OLD.iloc[:,Index]"
   ]
  },
  {
   "cell_type": "code",
   "execution_count": 12,
   "metadata": {},
   "outputs": [],
   "source": [
    "def rede(i,j):\n",
    "    clf = MLPRegressor(solver='lbfgs',activation='tanh',alpha=1e-5,\n",
    "                       hidden_layer_sizes=(i, j),random_state=1)\n",
    "    return clf"
   ]
  },
  {
   "cell_type": "code",
   "execution_count": 13,
   "metadata": {},
   "outputs": [
    {
     "name": "stderr",
     "output_type": "stream",
     "text": [
      "/home/ucfilho/.local/lib/python3.5/site-packages/ipykernel_launcher.py:9: SettingWithCopyWarning: \n",
      "A value is trying to be set on a copy of a slice from a DataFrame.\n",
      "Try using .loc[row_indexer,col_indexer] = value instead\n",
      "\n",
      "See the caveats in the documentation: http://pandas.pydata.org/pandas-docs/stable/indexing.html#indexing-view-versus-copy\n",
      "  if __name__ == '__main__':\n"
     ]
    },
    {
     "name": "stdout",
     "output_type": "stream",
     "text": [
      "Neuronios= 1 1 MSE teste= 506.60326307 R^2 teste= 0.962982450333\n",
      "Neuronios= 1 2 MSE teste= 471.410446335 R^2 teste= 0.965553992872\n",
      "Neuronios= 1 3 MSE teste= 219.559220302 R^2 teste= 0.983956786435\n",
      "Neuronios= 1 4 MSE teste= 506.256370085 R^2 teste= 0.963007797837\n",
      "Neuronios= 1 5 MSE teste= 255.923449309 R^2 teste= 0.981299648687\n",
      "Neuronios= 1 6 MSE teste= 324.722895785 R^2 teste= 0.976272466447\n",
      "Neuronios= 1 7 MSE teste= 347.179410668 R^2 teste= 0.974631566722\n",
      "Neuronios= 1 8 MSE teste= 239.781594247 R^2 teste= 0.982479135605\n",
      "Neuronios= 1 9 MSE teste= 414.088329957 R^2 teste= 0.969742525487\n",
      "Neuronios= 2 1 MSE teste= 450.505858467 R^2 teste= 0.967081493139\n",
      "Neuronios= 2 2 MSE teste= 506.615582265 R^2 teste= 0.962981550169\n",
      "Neuronios= 2 3 MSE teste= 481.19543615 R^2 teste= 0.964839002716\n",
      "Neuronios= 2 4 MSE teste= 147.343806226 R^2 teste= 0.98923357376\n",
      "Neuronios= 2 5 MSE teste= 174.849760554 R^2 teste= 0.987223711004\n",
      "Neuronios= 2 6 MSE teste= 129.987469465 R^2 teste= 0.990501802973\n",
      "Neuronios= 2 7 MSE teste= 143.95807989 R^2 teste= 0.989480969112\n",
      "Neuronios= 2 8 MSE teste= 132.059805286 R^2 teste= 0.990350377194\n",
      "Neuronios= 2 9 MSE teste= 206.885235554 R^2 teste= 0.984882875732\n",
      "Neuronios= 3 1 MSE teste= 444.992814103 R^2 teste= 0.967484331827\n",
      "Neuronios= 3 2 MSE teste= 279.752886931 R^2 teste= 0.979558429364\n",
      "Neuronios= 3 3 MSE teste= 172.295497537 R^2 teste= 0.98741035125\n",
      "Neuronios= 3 4 MSE teste= 128.031098457 R^2 teste= 0.990644755193\n",
      "Neuronios= 3 5 MSE teste= 99.3909562908 R^2 teste= 0.992737493165\n",
      "Neuronios= 3 6 MSE teste= 118.104548686 R^2 teste= 0.99137008915\n",
      "Neuronios= 3 7 MSE teste= 79.4418348648 R^2 teste= 0.994195177406\n",
      "Neuronios= 3 8 MSE teste= 30.1803527304 R^2 teste= 0.997794718693\n",
      "Neuronios= 3 9 MSE teste= 82.4992170133 R^2 teste= 0.993971774195\n",
      "Neuronios= 4 1 MSE teste= 290.84114056 R^2 teste= 0.978748209594\n",
      "Neuronios= 4 2 MSE teste= 232.729686112 R^2 teste= 0.982994419218\n",
      "Neuronios= 4 3 MSE teste= 135.664631764 R^2 teste= 0.990086972172\n",
      "Neuronios= 4 4 MSE teste= 61.8211316679 R^2 teste= 0.995482723901\n",
      "Neuronios= 4 5 MSE teste= 84.2210197042 R^2 teste= 0.993845961905\n",
      "Neuronios= 4 6 MSE teste= 126.955830959 R^2 teste= 0.990723325094\n",
      "Neuronios= 4 7 MSE teste= 65.0969665694 R^2 teste= 0.995243358326\n",
      "Neuronios= 4 8 MSE teste= 45.530198868 R^2 teste= 0.996673103944\n",
      "Neuronios= 4 9 MSE teste= 45.0698620722 R^2 teste= 0.996706740798\n",
      "Neuronios= 5 1 MSE teste= 405.267345268 R^2 teste= 0.970387075695\n",
      "Neuronios= 5 2 MSE teste= 267.775980624 R^2 teste= 0.980433583072\n",
      "Neuronios= 5 3 MSE teste= 132.912668663 R^2 teste= 0.990288058384\n",
      "Neuronios= 5 4 MSE teste= 107.406337261 R^2 teste= 0.992151808498\n",
      "Neuronios= 5 5 MSE teste= 132.895840187 R^2 teste= 0.990289288042\n",
      "Neuronios= 5 6 MSE teste= 91.2493626473 R^2 teste= 0.993332400203\n",
      "Neuronios= 5 7 MSE teste= 70.4174673449 R^2 teste= 0.994854588818\n",
      "Neuronios= 5 8 MSE teste= 90.2744397384 R^2 teste= 0.993403637915\n",
      "Neuronios= 5 9 MSE teste= 56.9888777097 R^2 teste= 0.995835817167\n",
      "Neuronios= 6 1 MSE teste= 265.224792441 R^2 teste= 0.980619998641\n",
      "Neuronios= 6 2 MSE teste= 247.089643859 R^2 teste= 0.98194513571\n",
      "Neuronios= 6 3 MSE teste= 158.424495412 R^2 teste= 0.988423906724\n",
      "Neuronios= 6 4 MSE teste= 95.7195906531 R^2 teste= 0.993005760208\n",
      "Neuronios= 6 5 MSE teste= 75.8542524714 R^2 teste= 0.9944573224\n",
      "Neuronios= 6 6 MSE teste= 114.722943997 R^2 teste= 0.991617183333\n",
      "Neuronios= 6 7 MSE teste= 110.366066943 R^2 teste= 0.991935540763\n",
      "Neuronios= 6 8 MSE teste= 84.111413668 R^2 teste= 0.993853970829\n",
      "Neuronios= 6 9 MSE teste= 104.904198334 R^2 teste= 0.992334640033\n",
      "Neuronios= 7 1 MSE teste= 267.254547816 R^2 teste= 0.980471684218\n",
      "Neuronios= 7 2 MSE teste= 273.87366503 R^2 teste= 0.97998802468\n",
      "Neuronios= 7 3 MSE teste= 125.191561405 R^2 teste= 0.990852240441\n",
      "Neuronios= 7 4 MSE teste= 138.756123913 R^2 teste= 0.989861076541\n",
      "Neuronios= 7 5 MSE teste= 96.9229856382 R^2 teste= 0.99291782802\n",
      "Neuronios= 7 6 MSE teste= 97.4095322803 R^2 teste= 0.99288227601\n",
      "Neuronios= 7 7 MSE teste= 140.439617467 R^2 teste= 0.989738063503\n",
      "Neuronios= 7 8 MSE teste= 128.357079835 R^2 teste= 0.990620935702\n",
      "Neuronios= 7 9 MSE teste= 87.4036966215 R^2 teste= 0.993613403394\n",
      "Neuronios= 8 1 MSE teste= 375.362201712 R^2 teste= 0.972572247441\n",
      "Neuronios= 8 2 MSE teste= 258.691073058 R^2 teste= 0.981097418151\n",
      "Neuronios= 8 3 MSE teste= 145.091806076 R^2 teste= 0.989398127629\n",
      "Neuronios= 8 4 MSE teste= 105.859200953 R^2 teste= 0.992264857898\n",
      "Neuronios= 8 5 MSE teste= 150.058051623 R^2 teste= 0.989035243585\n",
      "Neuronios= 8 6 MSE teste= 72.369119141 R^2 teste= 0.994711981431\n",
      "Neuronios= 8 7 MSE teste= 145.487724264 R^2 teste= 0.989369197849\n",
      "Neuronios= 8 8 MSE teste= 103.806646382 R^2 teste= 0.99241483826\n",
      "Neuronios= 8 9 MSE teste= 69.517896099 R^2 teste= 0.994920320576\n",
      "Neuronios= 9 1 MSE teste= 287.541053751 R^2 teste= 0.978989347258\n",
      "Neuronios= 9 2 MSE teste= 339.745325491 R^2 teste= 0.975174776048\n",
      "Neuronios= 9 3 MSE teste= 183.495511788 R^2 teste= 0.986591965121\n",
      "Neuronios= 9 4 MSE teste= 117.03167898 R^2 teste= 0.991448483843\n",
      "Neuronios= 9 5 MSE teste= 105.43522715 R^2 teste= 0.992295837705\n",
      "Neuronios= 9 6 MSE teste= 99.3500401275 R^2 teste= 0.992740482913\n",
      "Neuronios= 9 7 MSE teste= 77.6395866226 R^2 teste= 0.99432686786\n",
      "Neuronios= 9 8 MSE teste= 90.2875123675 R^2 teste= 0.993402682697\n",
      "Neuronios= 9 9 MSE teste= 75.0274939029 R^2 teste= 0.994517733729\n",
      "\n",
      " Melhor resposta:\n",
      "Neuronios= 3 8 MSE teste= 30.1803527304 R^2 teste= 0.997794718693\n"
     ]
    }
   ],
   "source": [
    "N=10\n",
    "M=10\n",
    "test=Original(y_test,Y_OLD)\n",
    "resist_obs_test=[]\n",
    "resist_obs_test=test['Resistence'].copy()\n",
    "Melhor=1e99\n",
    "ir=0\n",
    "jr=0\n",
    "for i in range(1,N):\n",
    "    for j in range(1,M):\n",
    "        col_names=list(y_train)\n",
    "        clf=rede(i,j)\n",
    "        clf.fit(x_train, y_train)\n",
    "        y_calc_train=[]\n",
    "        y_calc_test=[]\n",
    "        y_calc_train=clf.predict(x_train)\n",
    "        y_calc_test=clf.predict(x_test)\n",
    "        y_calc_train=pd.DataFrame(y_calc_train)\n",
    "        y_calc_test=pd.DataFrame(y_calc_test)\n",
    "        y_calc_train.columns = col_names\n",
    "        y_calc_test.columns = col_names\n",
    "        y_calc_train=Original(y_calc_train,Y_OLD)\n",
    "        y_calc_test=Original(y_calc_test,Y_OLD)\n",
    "        resist_calc_test=[]\n",
    "        resist_calc_test=y_calc_test['Resistence'].copy()\n",
    "        mse=mean_squared_error(resist_obs_test,resist_calc_test)\n",
    "        R2=r2_score(resist_obs_test,resist_calc_test)\n",
    "        print(\"Neuronios=\",i,j,\"MSE teste=\",mse,\"R^2 teste=\",R2)\n",
    "        if(mse<Melhor):\n",
    "            Melhor=mse.copy()\n",
    "            ix=i\n",
    "            jx=j\n",
    "            R2r=R2\n",
    "print(\"\\n Melhor resposta:\")\n",
    "print(\"Neuronios=\",ix,jx,\"MSE teste=\",Melhor,\"R^2 teste=\",R2r)"
   ]
  }
 ],
 "metadata": {
  "kernelspec": {
   "display_name": "Python 3",
   "language": "python",
   "name": "python3"
  },
  "language_info": {
   "codemirror_mode": {
    "name": "ipython",
    "version": 3
   },
   "file_extension": ".py",
   "mimetype": "text/x-python",
   "name": "python",
   "nbconvert_exporter": "python",
   "pygments_lexer": "ipython3",
   "version": "3.5.4"
  }
 },
 "nbformat": 4,
 "nbformat_minor": 2
}
