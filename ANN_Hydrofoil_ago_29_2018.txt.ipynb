{
 "cells": [
  {
   "cell_type": "code",
   "execution_count": 1,
   "metadata": {},
   "outputs": [],
   "source": [
    "import os\n",
    "import numpy as np\n",
    "import pandas as pd\n",
    "import matplotlib.pyplot as plt\n",
    "%matplotlib inline"
   ]
  },
  {
   "cell_type": "code",
   "execution_count": 2,
   "metadata": {},
   "outputs": [],
   "source": [
    "path='/home/ucfilho/Documents/Aulas/Ago_29_2018'\n",
    "os.chdir(path)"
   ]
  },
  {
   "cell_type": "code",
   "execution_count": 3,
   "metadata": {},
   "outputs": [],
   "source": [
    "DAT=pd.read_csv(\"Hydrofoil_ago_29_2018.csv\")\n",
    "#DAT=pd.read_csv(\"Hydrofoil_ago_29_2018.csv\",index_col=\"emit\")"
   ]
  },
  {
   "cell_type": "code",
   "execution_count": 4,
   "metadata": {},
   "outputs": [
    {
     "name": "stdout",
     "output_type": "stream",
     "text": [
      "   Unnamed: 0  Case  Hydrofoil    Froude  Resistence   Sinkage      Trim  \\\n",
      "0           1     1          1  0.000000    0.000000  0.000000  0.000000   \n",
      "1           2     2          1  0.103733    2.549729 -0.689028  1.353022   \n",
      "2           3     3          1  0.124480    3.628461 -0.835413  1.346323   \n",
      "3           4     4          1  0.165973    6.374322 -1.864337  1.361538   \n",
      "4           5     5          1  0.186719    8.217973 -2.301539  1.378858   \n",
      "\n",
      "      Power  \n",
      "0  0.000000  \n",
      "1  0.950991  \n",
      "2  1.624000  \n",
      "3  3.803965  \n",
      "4  5.517212  \n"
     ]
    }
   ],
   "source": [
    "print(DAT.head())"
   ]
  },
  {
   "cell_type": "code",
   "execution_count": 5,
   "metadata": {},
   "outputs": [],
   "source": [
    "# Obs:Dat=DAT.iloc[:,[2,3]] funciona\n",
    "# Obs:Dat=DAT.iloc[:,[2,3,4,5,6,7]] nao funciona (too many index)\n",
    "# print(DAT.head())"
   ]
  },
  {
   "cell_type": "code",
   "execution_count": 6,
   "metadata": {},
   "outputs": [
    {
     "name": "stdout",
     "output_type": "stream",
     "text": [
      "   Hydrofoil    Froude  Resistence   Sinkage      Trim     Power\n",
      "0          1  0.000000    0.000000  0.000000  0.000000  0.000000\n",
      "1          1  0.103733    2.549729 -0.689028  1.353022  0.950991\n",
      "2          1  0.124480    3.628461 -0.835413  1.346323  1.624000\n",
      "3          1  0.165973    6.374322 -1.864337  1.361538  3.803965\n",
      "4          1  0.186719    8.217973 -2.301539  1.378858  5.517212\n"
     ]
    }
   ],
   "source": [
    "Index=[2,3,4,5,6,7]\n",
    "Dat_Select=[]\n",
    "Dat_Select=DAT.iloc[:,Index].copy()\n",
    "print(Dat_Select.head())"
   ]
  },
  {
   "cell_type": "code",
   "execution_count": 7,
   "metadata": {},
   "outputs": [
    {
     "name": "stdout",
     "output_type": "stream",
     "text": [
      "-6.500114614\n",
      "<class 'pandas.core.frame.DataFrame'>\n",
      "RangeIndex: 59 entries, 0 to 58\n",
      "Data columns (total 6 columns):\n",
      "Hydrofoil     59 non-null int64\n",
      "Froude        59 non-null float64\n",
      "Resistence    59 non-null float64\n",
      "Sinkage       59 non-null float64\n",
      "Trim          59 non-null float64\n",
      "Power         59 non-null float64\n",
      "dtypes: float64(5), int64(1)\n",
      "memory usage: 2.8 KB\n",
      "None\n"
     ]
    }
   ],
   "source": [
    "Min=np.min(Dat_Select.iloc[:,[3]])\n",
    "print(float(Min))\n",
    "print(Dat_Select.info())"
   ]
  },
  {
   "cell_type": "code",
   "execution_count": 8,
   "metadata": {
    "scrolled": true
   },
   "outputs": [
    {
     "name": "stdout",
     "output_type": "stream",
     "text": [
      "   Hydrofoil    Froude  Resistence   Sinkage      Trim     Power\n",
      "0       -1.0 -1.000000   -1.000000 -0.883085 -1.000000 -1.000000\n",
      "1       -1.0 -0.913570   -0.986458 -0.895478 -0.459481 -0.999415\n",
      "2       -1.0 -0.896283   -0.980729 -0.898111 -0.462157 -0.999001\n",
      "3       -1.0 -0.861711   -0.966146 -0.916618 -0.456079 -0.997659\n",
      "4       -1.0 -0.844425   -0.956354 -0.924482 -0.449160 -0.996605\n"
     ]
    }
   ],
   "source": [
    "# normatizando os dados (existe forma automatica de fazer nao discutiremos\n",
    "def normalizeCols(M):\n",
    "    Num=len(M.columns)\n",
    "    for i in range(Num):\n",
    "        #Max=M.iloc[:,[i]].max()\n",
    "        Max=float(np.max(M.iloc[:,[i]]))\n",
    "        #Min=M.iloc[:,[i]].min()\n",
    "        Min=float(np.min(M.iloc[:,[i]]))\n",
    "        a=(Max+Min)/2\n",
    "        b=(Max-Min)/2\n",
    "        M.iloc[:,[i]] = M.iloc[:,[i]].apply(lambda x: (x-a)/b)\n",
    "    return M\n",
    "DAT=normalizeCols(Dat_Select)\n",
    "print(Dat_Select.head())"
   ]
  },
  {
   "cell_type": "code",
   "execution_count": 9,
   "metadata": {},
   "outputs": [
    {
     "name": "stdout",
     "output_type": "stream",
     "text": [
      "   Resistence   Sinkage\n",
      "0   -1.000000 -0.883085\n",
      "1   -0.986458 -0.895478\n",
      "2   -0.980729 -0.898111\n",
      "3   -0.966146 -0.916618\n",
      "4   -0.956354 -0.924482\n"
     ]
    }
   ],
   "source": [
    "X=DAT.iloc[:,[2,3]]\n",
    "print(X.head())"
   ]
  },
  {
   "cell_type": "code",
   "execution_count": 10,
   "metadata": {},
   "outputs": [
    {
     "name": "stdout",
     "output_type": "stream",
     "text": [
      "   Resistence   Sinkage      Trim     Power\n",
      "0   -1.000000 -0.883085 -1.000000 -1.000000\n",
      "1   -0.986458 -0.895478 -0.459481 -0.999415\n",
      "2   -0.980729 -0.898111 -0.462157 -0.999001\n",
      "3   -0.966146 -0.916618 -0.456079 -0.997659\n",
      "4   -0.956354 -0.924482 -0.449160 -0.996605\n"
     ]
    }
   ],
   "source": [
    "Index=[2,3,4,5]\n",
    "Dat_Select=[]\n",
    "Y=DAT.iloc[:,Index].copy()\n",
    "print(Y.head())"
   ]
  },
  {
   "cell_type": "code",
   "execution_count": 11,
   "metadata": {},
   "outputs": [],
   "source": [
    "# parte futura.....\n",
    "#train=data.sample(frac=0.4,random_state=200)\n",
    "#test=data.drop(train.index)"
   ]
  },
  {
   "cell_type": "code",
   "execution_count": 12,
   "metadata": {},
   "outputs": [],
   "source": [
    "#from sklearn.neural_network import MLPClassifier\n",
    "from sklearn.neural_network import MLPRegressor\n"
   ]
  },
  {
   "cell_type": "code",
   "execution_count": 13,
   "metadata": {},
   "outputs": [],
   "source": [
    "clf = MLPRegressor(solver='lbfgs',activation='tanh',alpha=1e-5,hidden_layer_sizes=(9, 8), \n",
    "                    random_state=1)"
   ]
  },
  {
   "cell_type": "code",
   "execution_count": 14,
   "metadata": {},
   "outputs": [
    {
     "data": {
      "text/plain": [
       "MLPRegressor(activation='tanh', alpha=1e-05, batch_size='auto', beta_1=0.9,\n",
       "       beta_2=0.999, early_stopping=False, epsilon=1e-08,\n",
       "       hidden_layer_sizes=(9, 8), learning_rate='constant',\n",
       "       learning_rate_init=0.001, max_iter=200, momentum=0.9,\n",
       "       nesterovs_momentum=True, power_t=0.5, random_state=1, shuffle=True,\n",
       "       solver='lbfgs', tol=0.0001, validation_fraction=0.1, verbose=False,\n",
       "       warm_start=False)"
      ]
     },
     "execution_count": 14,
     "metadata": {},
     "output_type": "execute_result"
    }
   ],
   "source": [
    "clf.fit(X, Y)"
   ]
  },
  {
   "cell_type": "code",
   "execution_count": 15,
   "metadata": {},
   "outputs": [],
   "source": [
    "W=clf.predict(X)"
   ]
  },
  {
   "cell_type": "code",
   "execution_count": 16,
   "metadata": {},
   "outputs": [
    {
     "data": {
      "image/png": "[encoded data removed]",
      "text/plain": [
       "<matplotlib.figure.Figure at 0x7fa2c541c6a0>"
      ]
     },
     "metadata": {},
     "output_type": "display_data"
    }
   ],
   "source": [
    "# plot results\n",
    "plt.plot(Y,W)\n",
    "plt.xlabel('Y obs')\n",
    "plt.ylabel('Y calc')\n",
    "plt.show()"
   ]
  },
  {
   "cell_type": "code",
   "execution_count": 17,
   "metadata": {},
   "outputs": [
    {
     "name": "stdout",
     "output_type": "stream",
     "text": [
      "   Resistence   Sinkage      Trim     Power\n",
      "0   -1.000000 -0.883085 -1.000000 -1.000000\n",
      "1   -0.986458 -0.895478 -0.459481 -0.999415\n",
      "2   -0.980729 -0.898111 -0.462157 -0.999001\n",
      "3   -0.966146 -0.916618 -0.456079 -0.997659\n",
      "4   -0.956354 -0.924482 -0.449160 -0.996605\n"
     ]
    }
   ],
   "source": [
    "print(Y.head())"
   ]
  },
  {
   "cell_type": "code",
   "execution_count": 18,
   "metadata": {},
   "outputs": [
    {
     "name": "stdout",
     "output_type": "stream",
     "text": [
      "[[-0.99460209 -0.87616488 -0.6924928  -0.99810132]\n",
      " [-0.97993099 -0.8874524  -0.66605657 -0.99876307]\n",
      " [-0.97487506 -0.89028657 -0.65704438 -0.99874942]\n",
      " [-0.95640971 -0.90647294 -0.62429381 -0.99930575]\n",
      " [-0.94601848 -0.91394149 -0.60612231 -0.99914316]]\n"
     ]
    }
   ],
   "source": [
    "print(W[0:5,:])"
   ]
  },
  {
   "cell_type": "code",
   "execution_count": null,
   "metadata": {},
   "outputs": [],
   "source": []
  }
 ],
 "metadata": {
  "kernelspec": {
   "display_name": "Python 3",
   "language": "python",
   "name": "python3"
  },
  "language_info": {
   "codemirror_mode": {
    "name": "ipython",
    "version": 3
   },
   "file_extension": ".py",
   "mimetype": "text/x-python",
   "name": "python",
   "nbconvert_exporter": "python",
   "pygments_lexer": "ipython3",
   "version": "3.5.4"
  }
 },
 "nbformat": 4,
 "nbformat_minor": 2
}
