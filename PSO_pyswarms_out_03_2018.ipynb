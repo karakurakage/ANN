{
  "nbformat": 4,
  "nbformat_minor": 0,
  "metadata": {
    "colab": {
      "name": "PSO_pyswarms_out_03_2018.ipynb",
      "version": "0.3.2",
      "provenance": [],
      "include_colab_link": true
    },
    "kernelspec": {
      "name": "python3",
      "display_name": "Python 3"
    }
  },
  "cells": [
    {
      "cell_type": "markdown",
      "metadata": {
        "id": "view-in-github",
        "colab_type": "text"
      },
      "source": [
        "[View in Colaboratory](https://colab.research.google.com/github/ucfilho/ANN/blob/master/PSO_pyswarms_out_03_2018.ipynb)"
      ]
    },
    {
      "metadata": {
        "id": "37otXOosAPpH",
        "colab_type": "code",
        "colab": {
          "base_uri": "https://localhost:8080/",
          "height": 493
        },
        "outputId": "ccceb891-f570-4e39-9fd3-c409cf6d4227"
      },
      "cell_type": "code",
      "source": [
        "!pip install PySwarms\n",
        "# Import PySwarms\n",
        "import pyswarms as ps\n",
        "from pyswarms.utils.functions import single_obj as fx"
      ],
      "execution_count": 13,
      "outputs": [
        {
          "output_type": "stream",
          "text": [
            "Requirement already satisfied: PySwarms in /usr/local/lib/python3.6/dist-packages (0.3.1)\n",
            "Requirement already satisfied: numpy>=1.13.0 in /usr/local/lib/python3.6/dist-packages (from PySwarms) (1.14.6)\n",
            "Requirement already satisfied: mock==2.0.0 in /usr/local/lib/python3.6/dist-packages (from PySwarms) (2.0.0)\n",
            "Requirement already satisfied: scipy>=0.17.0 in /usr/local/lib/python3.6/dist-packages (from PySwarms) (0.19.1)\n",
            "Requirement already satisfied: pytest==3.6.4 in /usr/local/lib/python3.6/dist-packages (from PySwarms) (3.6.4)\n",
            "Requirement already satisfied: pre-commit in /usr/local/lib/python3.6/dist-packages (from PySwarms) (1.11.1)\n",
            "Requirement already satisfied: future==0.16.0 in /usr/local/lib/python3.6/dist-packages (from PySwarms) (0.16.0)\n",
            "Requirement already satisfied: PyYAML==3.13 in /usr/local/lib/python3.6/dist-packages (from PySwarms) (3.13)\n",
            "Requirement already satisfied: matplotlib>=1.3.1 in /usr/local/lib/python3.6/dist-packages (from PySwarms) (2.1.2)\n",
            "Requirement already satisfied: attrs==18.1.0 in /usr/local/lib/python3.6/dist-packages (from PySwarms) (18.1.0)\n",
            "Requirement already satisfied: six>=1.9 in /usr/local/lib/python3.6/dist-packages (from mock==2.0.0->PySwarms) (1.11.0)\n",
            "Requirement already satisfied: pbr>=0.11 in /usr/local/lib/python3.6/dist-packages (from mock==2.0.0->PySwarms) (4.2.0)\n",
            "Requirement already satisfied: atomicwrites>=1.0 in /usr/local/lib/python3.6/dist-packages (from pytest==3.6.4->PySwarms) (1.2.1)\n",
            "Requirement already satisfied: py>=1.5.0 in /usr/local/lib/python3.6/dist-packages (from pytest==3.6.4->PySwarms) (1.6.0)\n",
            "Requirement already satisfied: pluggy<0.8,>=0.5 in /usr/local/lib/python3.6/dist-packages (from pytest==3.6.4->PySwarms) (0.7.1)\n",
            "Requirement already satisfied: setuptools in /usr/local/lib/python3.6/dist-packages (from pytest==3.6.4->PySwarms) (39.1.0)\n",
            "Requirement already satisfied: more-itertools>=4.0.0 in /usr/local/lib/python3.6/dist-packages (from pytest==3.6.4->PySwarms) (4.3.0)\n",
            "Requirement already satisfied: virtualenv in /usr/local/lib/python3.6/dist-packages (from pre-commit->PySwarms) (16.0.0)\n",
            "Requirement already satisfied: cfgv>=1.0.0 in /usr/local/lib/python3.6/dist-packages (from pre-commit->PySwarms) (1.1.0)\n",
            "Requirement already satisfied: cached-property in /usr/local/lib/python3.6/dist-packages (from pre-commit->PySwarms) (1.5.1)\n",
            "Requirement already satisfied: toml in /usr/local/lib/python3.6/dist-packages (from pre-commit->PySwarms) (0.9.6)\n",
            "Requirement already satisfied: nodeenv>=0.11.1 in /usr/local/lib/python3.6/dist-packages (from pre-commit->PySwarms) (1.3.2)\n",
            "Requirement already satisfied: identify>=1.0.0 in /usr/local/lib/python3.6/dist-packages (from pre-commit->PySwarms) (1.1.6)\n",
            "Requirement already satisfied: aspy.yaml in /usr/local/lib/python3.6/dist-packages (from pre-commit->PySwarms) (1.1.1)\n",
            "Requirement already satisfied: pyparsing!=2.0.4,!=2.1.2,!=2.1.6,>=2.0.1 in /usr/local/lib/python3.6/dist-packages (from matplotlib>=1.3.1->PySwarms) (2.2.1)\n",
            "Requirement already satisfied: pytz in /usr/local/lib/python3.6/dist-packages (from matplotlib>=1.3.1->PySwarms) (2018.5)\n",
            "Requirement already satisfied: cycler>=0.10 in /usr/local/lib/python3.6/dist-packages (from matplotlib>=1.3.1->PySwarms) (0.10.0)\n",
            "Requirement already satisfied: python-dateutil>=2.1 in /usr/local/lib/python3.6/dist-packages (from matplotlib>=1.3.1->PySwarms) (2.5.3)\n"
          ],
          "name": "stdout"
        }
      ]
    },
    {
      "metadata": {
        "id": "QsRad20HAL5P",
        "colab_type": "code",
        "colab": {}
      },
      "cell_type": "code",
      "source": [
        "# import modules\n",
        "import numpy as np\n",
        "\n",
        "# create a parameterized version of the classic Rosenbrock unconstrained optimzation function\n",
        "def rosenbrock_with_args(x, a, b, c=0):\n",
        "\n",
        "    f = (a - x[:, 0]) ** 2 + b * (x[:, 1] - x[:, 0] ** 2) ** 2 + c\n",
        "    return f"
      ],
      "execution_count": 0,
      "outputs": []
    },
    {
      "metadata": {
        "id": "Hgrmzs-ZAeJq",
        "colab_type": "code",
        "colab": {
          "base_uri": "https://localhost:8080/",
          "height": 51
        },
        "outputId": "1f9f7b2b-c9b4-4459-e97e-beaadd9e8891"
      },
      "cell_type": "code",
      "source": [
        "# Some more magic so that the notebook will reload external python modules;\n",
        "# see http://stackoverflow.com/questions/1907993/autoreload-of-modules-in-ipython\n",
        "%load_ext autoreload\n",
        "%autoreload 2"
      ],
      "execution_count": 15,
      "outputs": [
        {
          "output_type": "stream",
          "text": [
            "The autoreload extension is already loaded. To reload it, use:\n",
            "  %reload_ext autoreload\n"
          ],
          "name": "stdout"
        }
      ]
    },
    {
      "metadata": {
        "id": "lGPRFHohAzyc",
        "colab_type": "code",
        "colab": {
          "base_uri": "https://localhost:8080/",
          "height": 476
        },
        "outputId": "9f4f5a60-fb04-4aa3-a1e9-42cfa82a2fc9"
      },
      "cell_type": "code",
      "source": [
        "from pyswarms.single.global_best import GlobalBestPSO\n",
        "\n",
        "# instatiate the optimizer\n",
        "x_max = 10 * np.ones(2)\n",
        "x_min = -1 * x_max\n",
        "bounds = (x_min, x_max)\n",
        "options = {'c1': 1.5, 'c2': 1.5, 'w': 0.9}\n",
        "optimizer = GlobalBestPSO(n_particles=40, dimensions=2, options=options, bounds=bounds)\n",
        "\n",
        "# now run the optimization, pass a=1 and b=100 as a tuple assigned to args\n",
        "\n",
        "cost, pos = optimizer.optimize(rosenbrock_with_args, 2000, print_step=100, verbose=3, a=1, b=100, c=0)"
      ],
      "execution_count": 18,
      "outputs": [
        {
          "output_type": "stream",
          "text": [
            "INFO:pyswarms.backend.topology.base:Running on `dynamic` topology, neighbors are updated regularly.Set `static=True` for fixed neighbors.\n",
            "INFO:pyswarms.single.global_best:Arguments Passed to Objective Function: {'a': 1, 'b': 100, 'c': 0}\n",
            "INFO:pyswarms.single.global_best:Iteration 1/2000, cost: 8.258673632798358\n",
            "INFO:pyswarms.single.global_best:Iteration 101/2000, cost: 0.013807034317527646\n",
            "INFO:pyswarms.single.global_best:Iteration 201/2000, cost: 0.00565457233251353\n",
            "INFO:pyswarms.single.global_best:Iteration 301/2000, cost: 0.0050270158716480195\n",
            "INFO:pyswarms.single.global_best:Iteration 401/2000, cost: 9.307521018536255e-05\n",
            "INFO:pyswarms.single.global_best:Iteration 501/2000, cost: 7.408553766453782e-05\n",
            "INFO:pyswarms.single.global_best:Iteration 601/2000, cost: 7.408553766453782e-05\n",
            "INFO:pyswarms.single.global_best:Iteration 701/2000, cost: 7.408553766453782e-05\n",
            "INFO:pyswarms.single.global_best:Iteration 801/2000, cost: 7.081085978701187e-06\n",
            "INFO:pyswarms.single.global_best:Iteration 901/2000, cost: 7.081085978701187e-06\n",
            "INFO:pyswarms.single.global_best:Iteration 1001/2000, cost: 7.081085978701187e-06\n",
            "INFO:pyswarms.single.global_best:Iteration 1101/2000, cost: 7.081085978701187e-06\n",
            "INFO:pyswarms.single.global_best:Iteration 1201/2000, cost: 7.081085978701187e-06\n",
            "INFO:pyswarms.single.global_best:Iteration 1301/2000, cost: 7.081085978701187e-06\n",
            "INFO:pyswarms.single.global_best:Iteration 1401/2000, cost: 7.081085978701187e-06\n",
            "INFO:pyswarms.single.global_best:Iteration 1501/2000, cost: 7.081085978701187e-06\n",
            "INFO:pyswarms.single.global_best:Iteration 1601/2000, cost: 7.081085978701187e-06\n",
            "INFO:pyswarms.single.global_best:Iteration 1701/2000, cost: 7.081085978701187e-06\n",
            "INFO:pyswarms.single.global_best:Iteration 1801/2000, cost: 7.081085978701187e-06\n",
            "INFO:pyswarms.single.global_best:Iteration 1901/2000, cost: 7.081085978701187e-06\n",
            "INFO:pyswarms.single.global_best:================================\n",
            "Optimization finished!\n",
            "Final cost: 0.0000\n",
            "Best value: [1.0025790631230584, 1.0050992400841876]\n",
            "\n"
          ],
          "name": "stderr"
        }
      ]
    }
  ]
}