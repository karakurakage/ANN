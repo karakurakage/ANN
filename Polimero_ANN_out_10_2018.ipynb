{
 "cells": [
  {
   "cell_type": "code",
   "execution_count": 1,
   "metadata": {},
   "outputs": [],
   "source": [
    "# bibliotecas usadas\n",
    "import os\n",
    "import numpy as np\n",
    "import pandas as pd\n",
    "import matplotlib.pyplot as plt\n",
    "from sklearn.neural_network import MLPRegressor\n",
    "from sklearn.metrics import mean_squared_error\n",
    "from sklearn.metrics import r2_score \n",
    "from mpl_toolkits.mplot3d import Axes3D, axes3d\n",
    "%matplotlib inline"
   ]
  },
  {
   "cell_type": "code",
   "execution_count": 2,
   "metadata": {},
   "outputs": [],
   "source": [
    "# funcao normatiza dados\n",
    "def Normatiza(x):\n",
    "    strings=list(x)\n",
    "    for i in strings:\n",
    "        max_x=x[i].max()\n",
    "        min_x=x[i].min()\n",
    "        a=(max_x+min_x)/2\n",
    "        b=(max_x-min_x)/2\n",
    "        x[i]=(x[i]-a)/b\n",
    "    return x"
   ]
  },
  {
   "cell_type": "code",
   "execution_count": 3,
   "metadata": {},
   "outputs": [],
   "source": [
    "# funcao retorna os dados a forma original\n",
    "def Original(x,x_old):\n",
    "    strings=list(x)\n",
    "    for i in strings:\n",
    "        max_x=x_old[i].max()\n",
    "        min_x=x_old[i].min()\n",
    "        a=(max_x+min_x)/2\n",
    "        b=(max_x-min_x)/2\n",
    "        x[i]=x[i]*b+a\n",
    "    return x"
   ]
  },
  {
   "cell_type": "code",
   "execution_count": 4,
   "metadata": {},
   "outputs": [],
   "source": [
    "path=\"/home/ucfilho/Documents/Aulas/ANN_2018/Out_10_2018\"\n",
    "os.chdir(path)"
   ]
  },
  {
   "cell_type": "code",
   "execution_count": 5,
   "metadata": {},
   "outputs": [
    {
     "name": "stdout",
     "output_type": "stream",
     "text": [
      "   Time     TC     Y  MI    MW\n",
      "0  80.0  170.0  76.5  62  2940\n",
      "1  80.0  180.0  77.0  60  3470\n",
      "2  90.0  170.0  78.0  66  3680\n",
      "3  90.0  180.0  79.5  59  3890\n",
      "4  85.0  175.0  79.9  72  3480\n"
     ]
    }
   ],
   "source": [
    "DAT=pd.read_csv(\"Polimero_maio_21_2015.txt\",sep='\\t')\n",
    "print(DAT.head())"
   ]
  },
  {
   "cell_type": "code",
   "execution_count": 6,
   "metadata": {},
   "outputs": [],
   "source": [
    "# separa as colunas de interesse\n",
    "Index=range(5)\n",
    "Dat_Select=[]\n",
    "Dat_Select=DAT.iloc[:,Index].copy()"
   ]
  },
  {
   "cell_type": "code",
   "execution_count": 7,
   "metadata": {},
   "outputs": [],
   "source": [
    "# separa os dados em normatizados e originais\n",
    "DAT_OLD=[]\n",
    "DAT_OLD=Dat_Select.copy()\n",
    "DAT=Normatiza(Dat_Select)"
   ]
  },
  {
   "cell_type": "code",
   "execution_count": 8,
   "metadata": {},
   "outputs": [],
   "source": [
    "# separa os dados em treino e teste\n",
    "train=DAT.sample(frac=1.0,random_state=None) # poderia ser frac=0.5? sim ou nao?\n",
    "test=DAT.drop(train.index)"
   ]
  },
  {
   "cell_type": "code",
   "execution_count": 9,
   "metadata": {},
   "outputs": [],
   "source": [
    "# obtem as variaveis independentes (treino e teste)\n",
    "x_train=train.iloc[:,[0,1]]\n",
    "x_test=test.iloc[:,[0,1]]\n",
    "X_OLD=DAT_OLD.iloc[:,[0,1]]"
   ]
  },
  {
   "cell_type": "code",
   "execution_count": 10,
   "metadata": {},
   "outputs": [
    {
     "name": "stdout",
     "output_type": "stream",
     "text": [
      "       Y  MI    MW\n",
      "0   76.5  62  2940\n",
      "1   77.0  60  3470\n",
      "2   78.0  66  3680\n",
      "3   79.5  59  3890\n",
      "4   79.9  72  3480\n",
      "5   80.3  69  3200\n",
      "6   80.0  68  3410\n",
      "7   79.7  70  3290\n",
      "8   79.8  71  3500\n",
      "9   78.4  68  3360\n",
      "10  75.6  71  3020\n",
      "11  78.5  58  3630\n",
      "12  77.0  57  3150\n",
      "        Time        TC\n",
      "6   0.000000  0.000000\n",
      "3   0.707214  0.707214\n",
      "2   0.707214 -0.707214\n",
      "8   0.000000  0.000000\n",
      "1  -0.707214  0.707214\n",
      "9   1.000000  0.000000\n",
      "5   0.000000  0.000000\n",
      "0  -0.707214 -0.707214\n",
      "10 -1.000000  0.000000\n",
      "4   0.000000  0.000000\n",
      "7   0.000000  0.000000\n",
      "11  0.000000  1.000000\n",
      "12  0.000000 -1.000000\n"
     ]
    }
   ],
   "source": [
    "# obtem as variaveis dependentes (treino e teste)\n",
    "Index=[2,3,4]\n",
    "y_train=train.iloc[:,Index]\n",
    "y_test=test.iloc[:,Index]\n",
    "Y_OLD=DAT_OLD.iloc[:,Index]\n",
    "print(Y_OLD)\n",
    "print(x_train)"
   ]
  },
  {
   "cell_type": "code",
   "execution_count": 11,
   "metadata": {},
   "outputs": [],
   "source": [
    "# define a rede neural \n",
    "clf = MLPRegressor(solver='lbfgs',activation='tanh',alpha=1e-5,hidden_layer_sizes=(6), \n",
    "                    random_state=1)"
   ]
  },
  {
   "cell_type": "code",
   "execution_count": 12,
   "metadata": {},
   "outputs": [
    {
     "data": {
      "text/plain": [
       "MLPRegressor(activation='tanh', alpha=1e-05, batch_size='auto', beta_1=0.9,\n",
       "       beta_2=0.999, early_stopping=False, epsilon=1e-08,\n",
       "       hidden_layer_sizes=6, learning_rate='constant',\n",
       "       learning_rate_init=0.001, max_iter=200, momentum=0.9,\n",
       "       nesterovs_momentum=True, power_t=0.5, random_state=1, shuffle=True,\n",
       "       solver='lbfgs', tol=0.0001, validation_fraction=0.1, verbose=False,\n",
       "       warm_start=False)"
      ]
     },
     "execution_count": 12,
     "metadata": {},
     "output_type": "execute_result"
    }
   ],
   "source": [
    "# treina a rede neural\n",
    "clf.fit(x_train, y_train)"
   ]
  },
  {
   "cell_type": "code",
   "execution_count": 13,
   "metadata": {},
   "outputs": [
    {
     "name": "stdout",
     "output_type": "stream",
     "text": [
      "[[ 0.8475048   0.73143674 -0.08272757]\n",
      " [ 0.66080451 -0.73478589  0.99810392]\n",
      " [ 0.02334168  0.19987969  0.55741396]\n",
      " [ 0.8475048   0.73143674 -0.08272757]\n",
      " [-0.3999421  -0.61454025  0.10441758]\n",
      " [ 0.19005043  0.46902518 -0.11512356]\n",
      " [ 0.8475048   0.73143674 -0.08272757]\n",
      " [-0.61652874 -0.33401304 -1.00301002]\n",
      " [-0.99882037  0.87261699 -0.82788403]\n",
      " [ 0.8475048   0.73143674 -0.08272757]\n",
      " [ 0.8475048   0.73143674 -0.08272757]\n",
      " [ 0.23027157 -0.84968596  0.46428714]\n",
      " [-0.40422099 -0.99727988 -0.55640961]]\n",
      "       Y  MI    MW\n",
      "0   76.5  62  2940\n",
      "1   77.0  60  3470\n",
      "2   78.0  66  3680\n",
      "3   79.5  59  3890\n",
      "4   79.9  72  3480\n",
      "5   80.3  69  3200\n",
      "6   80.0  68  3410\n",
      "7   79.7  70  3290\n",
      "8   79.8  71  3500\n",
      "9   78.4  68  3360\n",
      "10  75.6  71  3020\n",
      "11  78.5  58  3630\n",
      "12  77.0  57  3150\n"
     ]
    }
   ],
   "source": [
    "# usa a rede neural treina em calculos para treino e teste\n",
    "y_calc_train=clf.predict(x_train)\n",
    "x_test=x_train\n",
    "y_calc_test=clf.predict(x_test)\n",
    "print(y_calc_train)\n",
    "print(Y_OLD)"
   ]
  },
  {
   "cell_type": "code",
   "execution_count": 14,
   "metadata": {},
   "outputs": [],
   "source": [
    "# transforma a saida da rede em dataframe \n",
    "y_calc_train=pd.DataFrame(y_calc_train)\n",
    "y_calc_test=pd.DataFrame(y_calc_test)\n",
    "col_names=list(y_train)\n",
    "y_calc_train.columns = col_names\n",
    "y_calc_test.columns = col_names"
   ]
  },
  {
   "cell_type": "code",
   "execution_count": 15,
   "metadata": {},
   "outputs": [
    {
     "name": "stdout",
     "output_type": "stream",
     "text": [
      "            Y         MI           MW\n",
      "0   79.941636  69.985776  3375.704402\n",
      "1   79.502891  58.989106  3889.099363\n",
      "2   78.004853  65.999098  3679.771632\n",
      "3   79.941636  69.985776  3375.704402\n",
      "4   77.010136  59.890948  3464.598351\n",
      "5   78.396619  68.017689  3360.316307\n",
      "6   79.941636  69.985776  3375.704402\n",
      "7   76.501157  61.994902  2938.570239\n",
      "8   75.602772  71.044627  3021.755086\n",
      "9   79.941636  69.985776  3375.704402\n",
      "10  79.941636  69.985776  3375.704402\n",
      "11  78.491138  58.127355  3635.536393\n",
      "12  77.000081  57.020401  3150.705434\n",
      "       Y  MI    MW\n",
      "0   76.5  62  2940\n",
      "1   77.0  60  3470\n",
      "2   78.0  66  3680\n",
      "3   79.5  59  3890\n",
      "4   79.9  72  3480\n",
      "5   80.3  69  3200\n",
      "6   80.0  68  3410\n",
      "7   79.7  70  3290\n",
      "8   79.8  71  3500\n",
      "9   78.4  68  3360\n",
      "10  75.6  71  3020\n",
      "11  78.5  58  3630\n",
      "12  77.0  57  3150\n"
     ]
    }
   ],
   "source": [
    "# transforma dos dados calculados na forma original (nao normatizado)\n",
    "y_calc_train=Original(y_calc_train,Y_OLD)\n",
    "y_calc_test=Original(y_calc_test,Y_OLD)\n",
    "print(y_calc_train)\n",
    "print(Y_OLD)"
   ]
  },
  {
   "cell_type": "code",
   "execution_count": 16,
   "metadata": {},
   "outputs": [],
   "source": [
    "def MW_calc(x_test,Y_OLD,clf):\n",
    "    y_calc_test=clf.predict(x_test)\n",
    "    y_calc_test=Original(y_calc_test,Y_OLD)\n",
    "    return y_calc_test['MW']\n",
    "def MI_calc(x_test,Y_OLD,clf):\n",
    "    y_calc_test=clf.predict(x_test)\n",
    "    y_calc_test=Original(y_calc_test,Y_OLD)\n",
    "    return y_calc_test['MI']\n",
    "def Y_calc(x_test,Y_OLD,clf):\n",
    "    y_calc_test=clf.predict(x_test)\n",
    "    y_calc_test=Original(y_calc_test,Y_OLD)\n",
    "    return y_calc_test['Y']\n",
    "\n",
    "def Desirability(y,U,T,L):\n",
    "    if y<L:\n",
    "        d=0\n",
    "    if (y>=L)&(y<=T):\n",
    "        d=(y-L)/(T-L)\n",
    "    if (y>=T)&(y<+U):\n",
    "        d=(U-y)/(U-T)\n",
    "    if (y>U):\n",
    "        d=0\n",
    "    return d"
   ]
  },
  {
   "cell_type": "code",
   "execution_count": 17,
   "metadata": {},
   "outputs": [],
   "source": [
    "def function(x):\n",
    "    Time=x[0]\n",
    "    TC=x[1]\n",
    "    MW=MW_calc(Time, TC)\n",
    "    MI=MI_calc(Time, TC)\n",
    "    Y=Y_calc(Time, TC)\n",
    "    U=3890\n",
    "    T=3400\n",
    "    L=2940\n",
    "    d1=Desirability(MW,U,T,L)\n",
    "    U=68\n",
    "    T=65\n",
    "    L=62\n",
    "    d2=Desirability(MI,U,T,L)\n",
    "    U=80\n",
    "    T=77.5\n",
    "    L=75.6\n",
    "    d3=Desirability(Y,U,T,L)\n",
    "    fun = (-1)*(d1*d2*d3)**(1/3)\n",
    "    return fun"
   ]
  },
  {
   "cell_type": "code",
   "execution_count": 18,
   "metadata": {},
   "outputs": [
    {
     "name": "stdout",
     "output_type": "stream",
     "text": [
      "[[-6. -3.  0.  3.  6.]\n",
      " [-6. -3.  0.  3.  6.]\n",
      " [-6. -3.  0.  3.  6.]\n",
      " [-6. -3.  0.  3.  6.]\n",
      " [-6. -3.  0.  3.  6.]]\n",
      "[[-6. -6. -6. -6. -6.]\n",
      " [-3. -3. -3. -3. -3.]\n",
      " [ 0.  0.  0.  0.  0.]\n",
      " [ 3.  3.  3.  3.  3.]\n",
      " [ 6.  6.  6.  6.  6.]]\n"
     ]
    }
   ],
   "source": [
    "x = np.linspace(-6, 6, 5)\n",
    "y = np.linspace(-6, 6, 5)\n",
    "\n",
    "X, Y = np.meshgrid(x, y)\n",
    "print(X)\n",
    "print(Y)"
   ]
  },
  {
   "cell_type": "code",
   "execution_count": 19,
   "metadata": {},
   "outputs": [
    {
     "name": "stdout",
     "output_type": "stream",
     "text": [
      "hello world,I am evolving!!!\n"
     ]
    }
   ],
   "source": [
    "print(\"hello world,I am evolving!!!\")"
   ]
  },
  {
   "cell_type": "markdown",
   "metadata": {},
   "source": [
    "PS: no planejamento de experimentos utilizando o Statistica -e-papers\n",
    "Y=80\n",
    "MI=65,044\n",
    "MW=3586,1"
   ]
  },
  {
   "cell_type": "markdown",
   "metadata": {},
   "source": [
    "tempo=86,65 e Temperatura=178,77"
   ]
  }
 ],
 "metadata": {
  "kernelspec": {
   "display_name": "Python 3",
   "language": "python",
   "name": "python3"
  },
  "language_info": {
   "codemirror_mode": {
    "name": "ipython",
    "version": 3
   },
   "file_extension": ".py",
   "mimetype": "text/x-python",
   "name": "python",
   "nbconvert_exporter": "python",
   "pygments_lexer": "ipython3",
   "version": "3.5.4"
  }
 },
 "nbformat": 4,
 "nbformat_minor": 2
}
