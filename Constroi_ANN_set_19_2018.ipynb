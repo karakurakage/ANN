{
 "cells": [
  {
   "cell_type": "code",
   "execution_count": 1,
   "metadata": {},
   "outputs": [],
   "source": [
    "# bibliotecas usadas\n",
    "import os\n",
    "import numpy as np\n",
    "import pandas as pd\n",
    "import matplotlib.pyplot as plt\n",
    "from sklearn.metrics import mean_squared_error\n",
    "from sklearn.metrics import r2_score "
   ]
  },
  {
   "cell_type": "code",
   "execution_count": 2,
   "metadata": {},
   "outputs": [
    {
     "name": "stdout",
     "output_type": "stream",
     "text": [
      "Hello world\n",
      "I'm evolving!!!\n",
      "\n"
     ]
    }
   ],
   "source": [
    "print(\"Hello world\"+\"\\n\"+\"I'm evolving!!!\"+\"\\n\")"
   ]
  },
  {
   "cell_type": "code",
   "execution_count": 3,
   "metadata": {},
   "outputs": [],
   "source": [
    "# local dos dados e modifica o diretorio\n",
    "path='/home/ucfilho/Documents/Aulas/Ago_29_2018'\n",
    "os.chdir(path)"
   ]
  },
  {
   "cell_type": "code",
   "execution_count": 4,
   "metadata": {},
   "outputs": [],
   "source": [
    "# sigmoid function\n",
    "def sigmoid(x,deriv=False):\n",
    "    if(deriv==True):\n",
    "        return x*(1-x)\n",
    "    return 1/(1+np.exp(-x))\n",
    "\n",
    "# purelin function\n",
    "def purelin(x,deriv=False):\n",
    "    if(deriv==True):\n",
    "        return 1\n",
    "    return x\n",
    "\n",
    "# normatize funcion\n",
    "def Normatiza(x):\n",
    "    strings=list(x)\n",
    "    for featur in strings:\n",
    "        max_feat=x[featur].max()\n",
    "        min_feat=x[featur].min()\n",
    "        x[featur]=(x[featur]-min_feat)/(max_feat-min_feat)\n",
    "    return x\n",
    "\n",
    "# normatize funcion\n",
    "def Original(x,x_old):\n",
    "    strings=list(x)\n",
    "    x_old.columns = list(x)\n",
    "    for featur in strings:\n",
    "        max_feat=x_old[featur].max()\n",
    "        min_feat=x_old[featur].min()\n",
    "        x[featur]=x[featur]*(max_feat-min_feat)+min_feat\n",
    "    return x\n"
   ]
  },
  {
   "cell_type": "code",
   "execution_count": 5,
   "metadata": {},
   "outputs": [],
   "source": [
    "\n",
    "# leitura dos dados\n",
    "DAT=pd.read_csv(\"Hydrofoil_ago_29_2018.csv\")\n",
    "\n",
    "# separa as colunas de interesse\n",
    "Index=[2,3,4,5,6,7]\n",
    "Dat_Select=[]\n",
    "Dat_Select=DAT.iloc[:,Index].copy()\n",
    "Y_old=Dat_Select['Resistence'].copy()\n",
    "#print(Dat_Select.head())\n",
    "\n",
    "# separa os dados em normatizados e originais\n",
    "DAT_OLD=[]\n",
    "DAT_OLD=Dat_Select.copy()\n",
    "DAT=Normatiza(Dat_Select)\n",
    "#print(DAT.head())\n",
    "\n",
    "# separa os dados em treino e teste\n",
    "train=[]\n",
    "test=[]\n",
    "train=DAT.sample(frac=0.8,random_state=None).copy() # poderia ser frac=0.5? sim ou nao?\n",
    "test=DAT.drop(train.index).copy()\n",
    "X_train=train.loc[DAT['Hydrofoil']==DAT['Hydrofoil'],['Hydrofoil','Froude']].values\n",
    "X_test=test.loc[DAT['Hydrofoil']==DAT['Hydrofoil'],['Hydrofoil','Froude']].values\n",
    "Y_test=train.loc[DAT['Hydrofoil']==DAT['Hydrofoil'],['Resistence']].values\n",
    "Y_train=train.loc[DAT['Hydrofoil']==DAT['Hydrofoil'],['Resistence']].values\n",
    "\n"
   ]
  },
  {
   "cell_type": "code",
   "execution_count": 6,
   "metadata": {},
   "outputs": [],
   "source": [
    "# Parametros da rede neural\n",
    "Neuron_input=2\n",
    "Neuron_hidden=20\n",
    "Neuron_output=1\n",
    "Learning_rate=0.01\n",
    "omega=0.9\n",
    "Epoch=50000  "
   ]
  },
  {
   "cell_type": "code",
   "execution_count": 7,
   "metadata": {},
   "outputs": [
    {
     "name": "stdout",
     "output_type": "stream",
     "text": [
      "Epoch 0 error:0.37437735103\n",
      "Epoch 5000 error:0.0357284192495\n",
      "Epoch 10000 error:0.0356057624857\n",
      "Epoch 15000 error:0.0355162031035\n",
      "Epoch 20000 error:0.0354389232321\n",
      "Epoch 25000 error:0.0353738369576\n",
      "Epoch 30000 error:0.035341954863\n",
      "Epoch 35000 error:0.0352951539409\n",
      "Epoch 40000 error:0.0352342242176\n",
      "Epoch 45000 error:0.0351689517013\n"
     ]
    },
    {
     "data": {
      "image/png": "[encoded data removed]",
      "text/plain": [
       "<matplotlib.figure.Figure at 0x7fafd796bdd8>"
      ]
     },
     "metadata": {},
     "output_type": "display_data"
    }
   ],
   "source": [
    "# randomly initialize our weights with mean 0\n",
    "syn0 = 2*np.random.random((Neuron_input,Neuron_hidden)) - 1\n",
    "syn1 = 2*np.random.random((Neuron_hidden,Neuron_output)) - 1\n",
    "\n",
    "for j in range(Epoch):\n",
    "\n",
    "    # Feed forward through layers 0, 1, and 2\n",
    "    l0 = X_train\n",
    "    l1 = sigmoid(np.dot(l0,syn0))\n",
    "    l2 = purelin(np.dot(l1,syn1))\n",
    "\n",
    "    # how much did we miss the target value?\n",
    "    l2_error = Y_train - l2\n",
    "\n",
    "    if (j% 5000) == 0:\n",
    "        print(\"Epoch %d\"%(j) +\" error:\" + str(np.mean(np.abs(l2_error))))\n",
    "\n",
    "    l2_delta = l2_error*purelin(l2,deriv=True)\n",
    "    l1_error = l2_delta.dot(syn1.T)\n",
    "    l1_delta = l1_error * sigmoid(l1,deriv=True)\n",
    "\n",
    "    syn1 += l1.T.dot(l2_delta)*Learning_rate\n",
    "    syn0 += l0.T.dot(l1_delta)*Learning_rate\n",
    "\n",
    "Y_test=pd.DataFrame(Y_test)\n",
    "Y_test.columns = [\"y_test\"]\n",
    "y_calc=np.reshape(l2,len(l2))\n",
    "y_calc=pd.DataFrame({'y_calc':y_calc})\n",
    "y_old=pd.DataFrame({'y_old':Y_old})\n",
    "y_calc=Original(y_calc,y_old)\n",
    "y_obs=Original(Y_test,y_old)\n",
    "\n",
    "#plt.scatter(y_obs,y_calc, s=10, c='b', marker=\"s\")\n",
    "plt.plot(y_obs,y_calc)\n",
    "plt.xlabel(\"True value\")\n",
    "plt.ylabel(\"Estimated value\")\n",
    "plt.show()"
   ]
  },
  {
   "cell_type": "code",
   "execution_count": 8,
   "metadata": {},
   "outputs": [
    {
     "name": "stdout",
     "output_type": "stream",
     "text": [
      "MSE teste= 261.082084595\n",
      "R^2 teste= 0.978828655384\n"
     ]
    }
   ],
   "source": [
    "mse=mean_squared_error(y_obs,y_calc)\n",
    "print(\"MSE teste=\",mse)\n",
    "R2=r2_score(y_obs,y_calc)\n",
    "print(\"R^2 teste=\",R2)"
   ]
  }
 ],
 "metadata": {
  "kernelspec": {
   "display_name": "Python 3",
   "language": "python",
   "name": "python3"
  },
  "language_info": {
   "codemirror_mode": {
    "name": "ipython",
    "version": 3
   },
   "file_extension": ".py",
   "mimetype": "text/x-python",
   "name": "python",
   "nbconvert_exporter": "python",
   "pygments_lexer": "ipython3",
   "version": "3.5.4"
  }
 },
 "nbformat": 4,
 "nbformat_minor": 2
}
