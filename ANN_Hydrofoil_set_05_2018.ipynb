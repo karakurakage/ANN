{
 "cells": [
  {
   "cell_type": "code",
   "execution_count": 1,
   "metadata": {},
   "outputs": [],
   "source": [
    "import os\n",
    "import numpy as np\n",
    "import pandas as pd\n",
    "import matplotlib.pyplot as plt\n",
    "%matplotlib inline"
   ]
  },
  {
   "cell_type": "code",
   "execution_count": 2,
   "metadata": {},
   "outputs": [],
   "source": [
    "path='/home/ucfilho/Documents/Aulas/Ago_29_2018'\n",
    "os.chdir(path)"
   ]
  },
  {
   "cell_type": "code",
   "execution_count": 3,
   "metadata": {},
   "outputs": [],
   "source": [
    "DAT=pd.read_csv(\"Hydrofoil_ago_29_2018.csv\")\n",
    "#DAT=pd.read_csv(\"Hydrofoil_ago_29_2018.csv\",index_col=\"emit\")"
   ]
  },
  {
   "cell_type": "code",
   "execution_count": 4,
   "metadata": {},
   "outputs": [
    {
     "name": "stdout",
     "output_type": "stream",
     "text": [
      "   Hydrofoil    Froude  Resistence   Sinkage      Trim     Power\n",
      "0          1  0.000000    0.000000  0.000000  0.000000  0.000000\n",
      "1          1  0.103733    2.549729 -0.689028  1.353022  0.950991\n",
      "2          1  0.124480    3.628461 -0.835413  1.346323  1.624000\n",
      "3          1  0.165973    6.374322 -1.864337  1.361538  3.803965\n",
      "4          1  0.186719    8.217973 -2.301539  1.378858  5.517212\n"
     ]
    }
   ],
   "source": [
    "Index=[2,3,4,5,6,7]\n",
    "Dat_Select=[]\n",
    "Dat_Select=DAT.iloc[:,Index].copy()\n",
    "print(Dat_Select.head())"
   ]
  },
  {
   "cell_type": "code",
   "execution_count": 5,
   "metadata": {
    "scrolled": true
   },
   "outputs": [
    {
     "name": "stdout",
     "output_type": "stream",
     "text": [
      "   Hydrofoil    Froude  Resistence   Sinkage      Trim     Power\n",
      "0       -1.0 -1.000000   -1.000000 -0.883085 -1.000000 -1.000000\n",
      "1       -1.0 -0.913570   -0.986458 -0.895478 -0.459481 -0.999415\n",
      "2       -1.0 -0.896283   -0.980729 -0.898111 -0.462157 -0.999001\n",
      "3       -1.0 -0.861711   -0.966146 -0.916618 -0.456079 -0.997659\n",
      "4       -1.0 -0.844425   -0.956354 -0.924482 -0.449160 -0.996605\n"
     ]
    }
   ],
   "source": [
    "# normatizando os dados (existe forma automatica de fazer nao discutiremos\n",
    "def normalizeCols(M):\n",
    "    Num=len(M.columns)\n",
    "    for i in range(Num):\n",
    "        Max=float(np.max(M.iloc[:,[i]]))\n",
    "        Min=float(np.min(M.iloc[:,[i]]))\n",
    "        a=(Max+Min)/2\n",
    "        b=(Max-Min)/2\n",
    "        M.iloc[:,[i]] = M.iloc[:,[i]].apply(lambda x: (x-a)/b)\n",
    "    return M\n",
    "DAT=normalizeCols(Dat_Select)\n",
    "print(Dat_Select.head())"
   ]
  },
  {
   "cell_type": "code",
   "execution_count": 6,
   "metadata": {},
   "outputs": [
    {
     "name": "stdout",
     "output_type": "stream",
     "text": [
      "   Resistence   Sinkage\n",
      "0   -1.000000 -0.883085\n",
      "1   -0.986458 -0.895478\n",
      "2   -0.980729 -0.898111\n",
      "3   -0.966146 -0.916618\n",
      "4   -0.956354 -0.924482\n"
     ]
    }
   ],
   "source": [
    "X=DAT.iloc[:,[2,3]]\n",
    "print(X.head())"
   ]
  },
  {
   "cell_type": "code",
   "execution_count": 7,
   "metadata": {},
   "outputs": [
    {
     "name": "stdout",
     "output_type": "stream",
     "text": [
      "   Resistence   Sinkage      Trim     Power\n",
      "0   -1.000000 -0.883085 -1.000000 -1.000000\n",
      "1   -0.986458 -0.895478 -0.459481 -0.999415\n",
      "2   -0.980729 -0.898111 -0.462157 -0.999001\n",
      "3   -0.966146 -0.916618 -0.456079 -0.997659\n",
      "4   -0.956354 -0.924482 -0.449160 -0.996605\n"
     ]
    }
   ],
   "source": [
    "Index=[2,3,4,5]\n",
    "Dat_Select=[]\n",
    "Y=DAT.iloc[:,Index].copy()\n",
    "print(Y.head())"
   ]
  },
  {
   "cell_type": "code",
   "execution_count": 8,
   "metadata": {},
   "outputs": [],
   "source": [
    "# parte futura.....\n",
    "#train=data.sample(frac=0.4,random_state=200)\n",
    "#test=data.drop(train.index)"
   ]
  },
  {
   "cell_type": "code",
   "execution_count": 9,
   "metadata": {},
   "outputs": [],
   "source": [
    "#from sklearn.neural_network import MLPClassifier\n",
    "from sklearn.neural_network import MLPRegressor\n"
   ]
  },
  {
   "cell_type": "code",
   "execution_count": 10,
   "metadata": {},
   "outputs": [],
   "source": [
    "clf = MLPRegressor(solver='lbfgs',activation='tanh',alpha=1e-5,hidden_layer_sizes=(9, 8), \n",
    "                    random_state=1)"
   ]
  },
  {
   "cell_type": "code",
   "execution_count": 11,
   "metadata": {},
   "outputs": [
    {
     "data": {
      "text/plain": [
       "MLPRegressor(activation='tanh', alpha=1e-05, batch_size='auto', beta_1=0.9,\n",
       "       beta_2=0.999, early_stopping=False, epsilon=1e-08,\n",
       "       hidden_layer_sizes=(9, 8), learning_rate='constant',\n",
       "       learning_rate_init=0.001, max_iter=200, momentum=0.9,\n",
       "       nesterovs_momentum=True, power_t=0.5, random_state=1, shuffle=True,\n",
       "       solver='lbfgs', tol=0.0001, validation_fraction=0.1, verbose=False,\n",
       "       warm_start=False)"
      ]
     },
     "execution_count": 11,
     "metadata": {},
     "output_type": "execute_result"
    }
   ],
   "source": [
    "clf.fit(X, Y)"
   ]
  },
  {
   "cell_type": "code",
   "execution_count": 12,
   "metadata": {},
   "outputs": [],
   "source": [
    "W=clf.predict(X)"
   ]
  },
  {
   "cell_type": "code",
   "execution_count": 13,
   "metadata": {},
   "outputs": [
    {
     "data": {
      "image/png": "[encoded data removed]",
      "text/plain": [
       "<matplotlib.figure.Figure at 0x7f60748d1390>"
      ]
     },
     "metadata": {},
     "output_type": "display_data"
    }
   ],
   "source": [
    "# plot results\n",
    "plt.plot(Y,W)\n",
    "plt.xlabel('Y obs')\n",
    "plt.ylabel('Y calc')\n",
    "plt.show()"
   ]
  },
  {
   "cell_type": "code",
   "execution_count": 14,
   "metadata": {},
   "outputs": [
    {
     "name": "stdout",
     "output_type": "stream",
     "text": [
      "[[-0.99460209 -0.87616488 -0.6924928  -0.99810132]\n",
      " [-0.97993099 -0.8874524  -0.66605657 -0.99876307]\n",
      " [-0.97487506 -0.89028657 -0.65704438 -0.99874942]\n",
      " [-0.95640971 -0.90647294 -0.62429381 -0.99930575]\n",
      " [-0.94601848 -0.91394149 -0.60612231 -0.99914316]]\n"
     ]
    }
   ],
   "source": [
    "print(W[0:5,:])"
   ]
  },
  {
   "cell_type": "code",
   "execution_count": 15,
   "metadata": {},
   "outputs": [
    {
     "name": "stdout",
     "output_type": "stream",
     "text": [
      "   Resistence   Sinkage      Trim     Power\n",
      "0   -1.000000 -0.883085 -1.000000 -1.000000\n",
      "1   -0.986458 -0.895478 -0.459481 -0.999415\n",
      "2   -0.980729 -0.898111 -0.462157 -0.999001\n",
      "3   -0.966146 -0.916618 -0.456079 -0.997659\n",
      "4   -0.956354 -0.924482 -0.449160 -0.996605\n"
     ]
    }
   ],
   "source": [
    "print(Y.head())"
   ]
  },
  {
   "cell_type": "code",
   "execution_count": 16,
   "metadata": {},
   "outputs": [
    {
     "data": {
      "text/plain": [
       "Text(0.5,0,'Resist Obs')"
      ]
     },
     "execution_count": 16,
     "metadata": {},
     "output_type": "execute_result"
    },
    {
     "data": {
      "image/png": "[encoded data removed]",
      "text/plain": [
       "<matplotlib.figure.Figure at 0x7f60747eb630>"
      ]
     },
     "metadata": {},
     "output_type": "display_data"
    }
   ],
   "source": [
    "resist_obs=[]\n",
    "resist_calc=[]\n",
    "resist_calc=W[:,0].copy()\n",
    "resist_obs=Y['Resistence'].copy()\n",
    "#print(resist_calc)\n",
    "#print(resist_obs)\n",
    "plt.scatter(resist_obs,resist_calc)\n",
    "plt.ylim((0, 1))\n",
    "plt.xlim((0, 1))\n",
    "plt.ylabel('Resist Calc')\n",
    "plt.xlabel('Resist Obs')\n"
   ]
  },
  {
   "cell_type": "code",
   "execution_count": 17,
   "metadata": {},
   "outputs": [
    {
     "name": "stdout",
     "output_type": "stream",
     "text": [
      "   Resistence   Sinkage      Trim     Power\n",
      "0    0.000000  0.000000  0.000000  0.000000\n",
      "1    2.549729 -0.689028  1.353022  0.950991\n",
      "2    3.628461 -0.835413  1.346323  1.624000\n",
      "3    6.374322 -1.864337  1.361538  3.803965\n",
      "4    8.217973 -2.301539  1.378858  5.517212\n"
     ]
    }
   ],
   "source": [
    "DAT=pd.read_csv(\"Hydrofoil_ago_29_2018.csv\")\n",
    "Index=[4,5,6,7]\n",
    "Dat_Select=[]\n",
    "Dat_Select=DAT.iloc[:,Index].copy()\n",
    "print(Dat_Select.head())"
   ]
  },
  {
   "cell_type": "code",
   "execution_count": 18,
   "metadata": {},
   "outputs": [
    {
     "name": "stdout",
     "output_type": "stream",
     "text": [
      "   Resistence   Sinkage      Trim     Power\n",
      "0    1.016360  0.384735  0.769749  3.085458\n",
      "1    3.778748 -0.242816  0.835924  2.010074\n",
      "2    4.730717 -0.400387  0.858483  2.032263\n",
      "3    8.207515 -1.300300  0.940464  1.128197\n",
      "4   10.164055 -1.715528  0.985951  1.392416\n"
     ]
    }
   ],
   "source": [
    "def Original(x,x_old):\n",
    "    strings=list(x)\n",
    "    for i in strings:\n",
    "        max_x=x_old[i].max()\n",
    "        min_x=x_old[i].min()\n",
    "        a=(max_x+min_x)/2\n",
    "        b=(max_x-min_x)/2\n",
    "        x[i]=x[i]*b+a\n",
    "    return x\n",
    "W=pd.DataFrame(W)\n",
    "col_names=list(Dat_Select)\n",
    "W.columns = col_names # apage este linha para ver o q acontece...\n",
    "W=Original(W,Dat_Select) \n",
    "print(W.head())"
   ]
  },
  {
   "cell_type": "code",
   "execution_count": 19,
   "metadata": {},
   "outputs": [
    {
     "data": {
      "text/plain": [
       "Text(0.5,0,'Resist Obs')"
      ]
     },
     "execution_count": 19,
     "metadata": {},
     "output_type": "execute_result"
    },
    {
     "data": {
      "image/png": "[encoded data removed]",
      "text/plain": [
       "<matplotlib.figure.Figure at 0x7f607480cda0>"
      ]
     },
     "metadata": {},
     "output_type": "display_data"
    }
   ],
   "source": [
    "resist_obs=[]\n",
    "resist_calc=[]\n",
    "resist_calc=W['Resistence'].copy()\n",
    "resist_obs=Dat_Select['Resistence'].copy()\n",
    "plt.scatter(resist_obs,resist_calc)\n",
    "plt.ylabel('Resist Calc')\n",
    "plt.xlabel('Resist Obs')"
   ]
  },
  {
   "cell_type": "code",
   "execution_count": 20,
   "metadata": {},
   "outputs": [],
   "source": [
    "ynew = np.c_[resist_obs,resist_calc]"
   ]
  },
  {
   "cell_type": "code",
   "execution_count": 21,
   "metadata": {},
   "outputs": [
    {
     "name": "stdout",
     "output_type": "stream",
     "text": [
      "[[   0.            1.01635989]\n",
      " [   2.549729      3.77874752]\n",
      " [   3.6284605     4.73071662]\n",
      " [   6.3743225     8.20751471]\n",
      " [   8.2179727    10.16405471]\n",
      " [  10.36562905   10.38322693]\n",
      " [  66.9794195    64.5289641 ]\n",
      " [ 129.5458465   135.10967241]\n",
      " [ 153.768272    150.60019341]\n",
      " [ 184.757286    176.62843836]\n",
      " [ 224.572285    220.52860784]\n",
      " [ 250.9521735   252.08909292]\n",
      " [ 262.81822     265.48634201]\n",
      " [ 284.39285     288.68291726]\n",
      " [ 292.23817     296.24943502]\n",
      " [ 306.163613    309.10766144]\n",
      " [ 375.398562    376.39782908]\n",
      " [   0.            1.01635989]\n",
      " [  11.13054775   11.11239643]\n",
      " [  69.627215     64.67566132]\n",
      " [ 136.8027675   142.97746869]\n",
      " [ 154.4547375   148.93912043]\n",
      " [ 177.500365    168.80711704]\n",
      " [ 198.5846625   194.05803547]\n",
      " [ 212.804305    213.77943487]\n",
      " [ 241.24359     242.2682787 ]\n",
      " [ 271.644205    273.04759621]\n",
      " [ 310.870805    315.9570236 ]\n",
      " [ 319.69679     325.94499548]\n",
      " [ 357.942725    366.8424962 ]\n",
      " [ 376.57536     378.61251041]\n",
      " [   0.            1.01635989]\n",
      " [  10.8853815     9.60431571]\n",
      " [  70.60788      65.99826254]\n",
      " [ 138.273765    146.38844025]\n",
      " [ 154.4547375   148.36978484]\n",
      " [ 173.577705    165.29211157]\n",
      " [ 184.561153    184.06744338]\n",
      " [ 196.133       202.95110081]\n",
      " [ 223.59162     227.16087615]\n",
      " [ 252.5212375   252.2832566 ]\n",
      " [ 286.35418     285.57705621]\n",
      " [ 296.16083     295.08922848]\n",
      " [ 303.025485    298.3143906 ]\n",
      " [ 333.4261      330.44324438]\n",
      " [   0.            1.01635989]\n",
      " [  11.2776475    10.5644766 ]\n",
      " [  71.588545     66.59835373]\n",
      " [ 135.8221025   141.65308762]\n",
      " [ 148.5707475   142.10231888]\n",
      " [ 165.143986    158.94692132]\n",
      " [ 174.55837     180.67363043]\n",
      " [ 185.345685    198.3422322 ]\n",
      " [ 210.646842    217.95368582]\n",
      " [ 234.378935    234.76529796]\n",
      " [ 270.66354     265.31539097]\n",
      " [ 274.5862      266.50538746]\n",
      " [ 291.257505    282.04863613]\n",
      " [ 286.35418     268.00018882]]\n"
     ]
    }
   ],
   "source": [
    "print(ynew)"
   ]
  },
  {
   "cell_type": "code",
   "execution_count": 22,
   "metadata": {},
   "outputs": [
    {
     "name": "stdout",
     "output_type": "stream",
     "text": [
      "    Unnamed: 0  Case  Hydrofoil    Froude  Resistence    Sinkage      Trim  \\\n",
      "35          36    36          3  0.829864  154.454737  29.937597  4.156960   \n",
      "31          32    32          3  0.000000    0.000000   0.000000  0.000000   \n",
      "29          30    30          2  2.240634  357.942725  89.609948  3.426487   \n",
      "51          52    52          4  1.244797  174.558370  69.942361  4.066262   \n",
      "23          24    24          2  1.244797  198.584663  59.819143  3.967196   \n",
      "\n",
      "          Power  \n",
      "35   460.864971  \n",
      "31     0.000000  \n",
      "29  2883.697961  \n",
      "51   781.275856  \n",
      "23   888.811015  \n",
      "==============\n",
      "47\n",
      "==============\n",
      "    Unnamed: 0  Case  Hydrofoil    Froude  Resistence    Sinkage      Trim  \\\n",
      "7            8     8          1  0.622398  129.545847   9.513175  4.409404   \n",
      "13          14    14          1  1.867195  284.392850  81.246826  4.922507   \n",
      "14          15    15          1  2.026944  292.238170  84.130501  4.484304   \n",
      "25          26    26          2  1.659729  241.243590  77.760720  3.708596   \n",
      "37          38    38          3  1.244797  184.561153  64.169399  4.465222   \n",
      "\n",
      "          Power  \n",
      "7    289.906013  \n",
      "13  1909.297737  \n",
      "14  2129.825283  \n",
      "25  1439.654386  \n",
      "37   826.045596  \n",
      "==============\n",
      "12\n"
     ]
    }
   ],
   "source": [
    "DAT=pd.read_csv(\"Hydrofoil_ago_29_2018.csv\")\n",
    "train=DAT.sample(frac=0.8,random_state=None) # poderia ser frac=0.5? sim ou nao?\n",
    "test=DAT.drop(train.index)\n",
    "print(train.head())\n",
    "print(\"==============\")\n",
    "print(train.shape[0])\n",
    "print(\"==============\")\n",
    "print(test.head())\n",
    "print(\"==============\")\n",
    "print(test.shape[0])"
   ]
  },
  {
   "cell_type": "code",
   "execution_count": 23,
   "metadata": {},
   "outputs": [],
   "source": [
    "Index=[4,5,6,7]\n",
    "y_test=[]\n",
    "y_train=[]\n",
    "y_test=test.iloc[:,Index].copy()\n",
    "y_train=train.iloc[:,Index].copy()\n",
    "Index=[2,3]\n",
    "x_test=[]\n",
    "x_train=[]\n",
    "x_test=test.iloc[:,Index].copy()\n",
    "x_train=train.iloc[:,Index].copy()"
   ]
  },
  {
   "cell_type": "code",
   "execution_count": 24,
   "metadata": {},
   "outputs": [
    {
     "name": "stdout",
     "output_type": "stream",
     "text": [
      "    Resistence   Sinkage      Trim     Power\n",
      "7    -0.311979 -0.711975  0.761513 -0.821602\n",
      "13    0.510417  0.578270  0.966493  0.174914\n",
      "14    0.552083  0.630138  0.791435  0.310618\n",
      "25    0.281250  0.515567  0.481548 -0.114088\n",
      "37   -0.019792  0.271105  0.783812 -0.491681\n"
     ]
    }
   ],
   "source": [
    "def Codifica(x,x_old):\n",
    "    strings=list(x)\n",
    "    for i in strings:\n",
    "        max_x=x_old[i].max()\n",
    "        min_x=x_old[i].min()\n",
    "        a=(max_x+min_x)/2\n",
    "        b=(max_x-min_x)/2\n",
    "        x[i]=(x[i]-a)/b\n",
    "    return x\n",
    "y_train_old=[]\n",
    "y_train_old=y_train.copy()\n",
    "x_train_old=[]\n",
    "x_train_old=x_train.copy()\n",
    "col_names=list(Dat_Select)\n",
    "W.columns = col_names # apage este linha para ver o q acontece...\n",
    "x_train=Codifica(x_train,x_train_old) \n",
    "y_train=Codifica(y_train,y_train_old) \n",
    "x_test=Codifica(x_test,x_train_old) \n",
    "y_test=Codifica(y_test,y_train_old) \n",
    "print(y_test.head())"
   ]
  },
  {
   "cell_type": "code",
   "execution_count": 25,
   "metadata": {},
   "outputs": [],
   "source": [
    "clf = MLPRegressor(solver='lbfgs',activation='tanh',alpha=1e-5,hidden_layer_sizes=(9, 8), \n",
    "                    random_state=1)"
   ]
  },
  {
   "cell_type": "code",
   "execution_count": 26,
   "metadata": {},
   "outputs": [
    {
     "data": {
      "text/plain": [
       "MLPRegressor(activation='tanh', alpha=1e-05, batch_size='auto', beta_1=0.9,\n",
       "       beta_2=0.999, early_stopping=False, epsilon=1e-08,\n",
       "       hidden_layer_sizes=(9, 8), learning_rate='constant',\n",
       "       learning_rate_init=0.001, max_iter=200, momentum=0.9,\n",
       "       nesterovs_momentum=True, power_t=0.5, random_state=1, shuffle=True,\n",
       "       solver='lbfgs', tol=0.0001, validation_fraction=0.1, verbose=False,\n",
       "       warm_start=False)"
      ]
     },
     "execution_count": 26,
     "metadata": {},
     "output_type": "execute_result"
    }
   ],
   "source": [
    "clf.fit(x_train, y_train)"
   ]
  },
  {
   "cell_type": "code",
   "execution_count": 27,
   "metadata": {},
   "outputs": [],
   "source": [
    "y_calc_train=clf.predict(x_train)\n",
    "y_calc_test=clf.predict(x_test)"
   ]
  },
  {
   "cell_type": "code",
   "execution_count": 28,
   "metadata": {},
   "outputs": [
    {
     "name": "stdout",
     "output_type": "stream",
     "text": [
      "   Resistence   Sinkage      Trim     Power\n",
      "0   -0.148628 -0.362080  0.732977 -0.734439\n",
      "1   -0.976626 -0.880240 -0.962391 -1.003720\n",
      "2    0.837659  0.784199  0.340408  0.720254\n",
      "3   -0.063406  0.401304  0.529070 -0.529966\n",
      "4    0.058370  0.180131  0.554061 -0.476177\n"
     ]
    }
   ],
   "source": [
    "y_calc_train=pd.DataFrame(y_calc_train)\n",
    "y_calc_test=pd.DataFrame(y_calc_test)\n",
    "col_names=list(y_train)\n",
    "y_calc_train.columns = col_names\n",
    "y_calc_test.columns = col_names\n",
    "print(y_calc_train.head())"
   ]
  },
  {
   "cell_type": "code",
   "execution_count": 29,
   "metadata": {},
   "outputs": [],
   "source": [
    "def Original(x,x_old):\n",
    "    strings=list(x)\n",
    "    for i in strings:\n",
    "        max_x=x_old[i].max()\n",
    "        min_x=x_old[i].min()\n",
    "        a=(max_x+min_x)/2\n",
    "        b=(max_x-min_x)/2\n",
    "        x[i]=x[i]*b+a\n",
    "    return x\n",
    "y_calc_train=Original(y_calc_train,y_train_old)\n",
    "y_obs_train=Original(y_train,y_train_old)\n",
    "y_calc_test=Original(y_calc_test,y_train_old) \n",
    "y_obs_test=Original(y_test,y_train_old)"
   ]
  },
  {
   "cell_type": "code",
   "execution_count": 30,
   "metadata": {},
   "outputs": [],
   "source": [
    "resist_obs_train=[]\n",
    "resist_calc_train=[]\n",
    "resist_calc=y_calc_train['Resistence'].copy()\n",
    "resist_obs=y_train_old['Resistence'].copy()"
   ]
  },
  {
   "cell_type": "code",
   "execution_count": 31,
   "metadata": {},
   "outputs": [
    {
     "data": {
      "text/plain": [
       "Text(0.5,0,'Resist Obs')"
      ]
     },
     "execution_count": 31,
     "metadata": {},
     "output_type": "execute_result"
    },
    {
     "data": {
      "image/png": "[encoded data removed]",
      "text/plain": [
       "<matplotlib.figure.Figure at 0x7f60747d1198>"
      ]
     },
     "metadata": {},
     "output_type": "display_data"
    }
   ],
   "source": [
    "plt.scatter(resist_obs,resist_calc)\n",
    "plt.ylabel('Resist Calc')\n",
    "plt.xlabel('Resist Obs')"
   ]
  },
  {
   "cell_type": "code",
   "execution_count": 40,
   "metadata": {},
   "outputs": [
    {
     "name": "stdout",
     "output_type": "stream",
     "text": [
      "7     129.545847\n",
      "13    284.392850\n",
      "14    292.238170\n",
      "25    241.243590\n",
      "37    184.561153\n",
      "Name: Resistence, dtype: float64\n"
     ]
    }
   ],
   "source": [
    "resist_obs_test=[]\n",
    "resist_calc_test=[]\n",
    "resist_calc_test=y_calc_test['Resistence'].copy()\n",
    "resist_obs_test=y_obs_test['Resistence'].copy()\n",
    "print(resist_obs_test.head())"
   ]
  },
  {
   "cell_type": "code",
   "execution_count": 42,
   "metadata": {},
   "outputs": [
    {
     "data": {
      "text/plain": [
       "Text(0.5,0,'Resist Obs')"
      ]
     },
     "execution_count": 42,
     "metadata": {},
     "output_type": "execute_result"
    },
    {
     "data": {
      "image/png": "[encoded data removed]",
      "text/plain": [
       "<matplotlib.figure.Figure at 0x7f6074584a90>"
      ]
     },
     "metadata": {},
     "output_type": "display_data"
    }
   ],
   "source": [
    "plt.scatter(resist_obs_test,resist_calc_test,c='red')\n",
    "plt.ylabel('Resist Calc')\n",
    "plt.xlabel('Resist Obs')"
   ]
  },
  {
   "cell_type": "code",
   "execution_count": 44,
   "metadata": {},
   "outputs": [
    {
     "data": {
      "image/png": "[encoded data removed]",
      "text/plain": [
       "<matplotlib.figure.Figure at 0x7f60744c19b0>"
      ]
     },
     "metadata": {},
     "output_type": "display_data"
    }
   ],
   "source": [
    "fig = plt.figure()\n",
    "ax1 = fig.add_subplot(111)\n",
    "\n",
    "ax1.scatter(resist_obs_test,resist_calc_test, s=10, c='b', marker=\"s\", label='teste')\n",
    "ax1.scatter(resist_obs,resist_calc, s=10, c='r', marker=\"o\", label='treino')\n",
    "plt.legend(loc='upper left')\n",
    "plt.ylabel('Resist Calc')\n",
    "plt.xlabel('Resist Obs')\n",
    "plt.show()"
   ]
  },
  {
   "cell_type": "code",
   "execution_count": null,
   "metadata": {},
   "outputs": [],
   "source": []
  }
 ],
 "metadata": {
  "kernelspec": {
   "display_name": "Python 3",
   "language": "python",
   "name": "python3"
  },
  "language_info": {
   "codemirror_mode": {
    "name": "ipython",
    "version": 3
   },
   "file_extension": ".py",
   "mimetype": "text/x-python",
   "name": "python",
   "nbconvert_exporter": "python",
   "pygments_lexer": "ipython3",
   "version": "3.5.4"
  }
 },
 "nbformat": 4,
 "nbformat_minor": 2
}
