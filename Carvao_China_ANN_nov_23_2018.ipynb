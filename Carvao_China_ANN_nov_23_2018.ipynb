{
  "nbformat": 4,
  "nbformat_minor": 0,
  "metadata": {
    "colab": {
      "name": "Carvao_China_ANN_nov_23_2018.ipynb",
      "version": "0.3.2",
      "provenance": [],
      "collapsed_sections": [],
      "include_colab_link": true
    },
    "kernelspec": {
      "display_name": "Python 3",
      "language": "python",
      "name": "python3"
    }
  },
  "cells": [
    {
      "cell_type": "markdown",
      "metadata": {
        "id": "view-in-github",
        "colab_type": "text"
      },
      "source": [
        "<a href=\"https://colab.research.google.com/github/ucfilho/ANN/blob/master/Carvao_China_ANN_nov_23_2018.ipynb\" target=\"_parent\"><img src=\"https://colab.research.google.com/assets/colab-badge.svg\" alt=\"Open In Colab\"/></a>"
      ]
    },
    {
      "metadata": {
        "id": "8CK0d8tEzkzW",
        "colab_type": "code",
        "colab": {}
      },
      "cell_type": "code",
      "source": [
        "# bibliotecas usadas\n",
        "import os\n",
        "import numpy as np\n",
        "import pandas as pd\n",
        "import matplotlib.pyplot as plt\n",
        "from scipy import optimize\n",
        "from sklearn.neural_network import MLPRegressor\n",
        "from sklearn.metrics import mean_squared_error\n",
        "from sklearn.metrics import r2_score \n",
        "from mpl_toolkits.mplot3d import Axes3D, axes3d\n",
        "%matplotlib inline"
      ],
      "execution_count": 0,
      "outputs": []
    },
    {
      "metadata": {
        "id": "BusLRTopzkze",
        "colab_type": "code",
        "colab": {}
      },
      "cell_type": "code",
      "source": [
        "# funcao normatiza dados\n",
        "def Normatiza(x):\n",
        "    strings=list(x)\n",
        "    for i in strings:\n",
        "        max_x=x[i].max()\n",
        "        min_x=x[i].min()\n",
        "        a=(max_x+min_x)/2\n",
        "        b=(max_x-min_x)/2\n",
        "        x[i]=(x[i]-a)/b\n",
        "    return x"
      ],
      "execution_count": 0,
      "outputs": []
    },
    {
      "metadata": {
        "id": "a40Kapnkzkzj",
        "colab_type": "code",
        "colab": {}
      },
      "cell_type": "code",
      "source": [
        "# funcao retorna os dados a forma original\n",
        "def Original(x,x_old):\n",
        "    strings=list(x)\n",
        "    for i in strings:\n",
        "        max_x=x_old[i].max()\n",
        "        min_x=x_old[i].min()\n",
        "        a=(max_x+min_x)/2\n",
        "        b=(max_x-min_x)/2\n",
        "        x[i]=x[i]*b+a\n",
        "    return x"
      ],
      "execution_count": 0,
      "outputs": []
    },
    {
      "metadata": {
        "id": "hN9aPXQrzkzl",
        "colab_type": "code",
        "outputId": "59594aff-72ac-433f-f28c-0765a9b5f511",
        "colab": {
          "base_uri": "https://localhost:8080/",
          "height": 53
        }
      },
      "cell_type": "code",
      "source": [
        "#path=\"/home/ucfilho/Documents/Aulas/ANN_2018/Out_10_2018\"\n",
        "#os.chdir(path)\n",
        "!git clone https://github.com/ucfilho/ANN\n",
        "%cd ANN"
      ],
      "execution_count": 4,
      "outputs": [
        {
          "output_type": "stream",
          "text": [
            "fatal: destination path 'ANN' already exists and is not an empty directory.\n",
            "/content/ANN\n"
          ],
          "name": "stdout"
        }
      ]
    },
    {
      "metadata": {
        "id": "x_biWwCEzkzp",
        "colab_type": "code",
        "outputId": "a7e3ef67-ba0d-4f9c-e529-22ea7ba2ad9c",
        "colab": {
          "base_uri": "https://localhost:8080/",
          "height": 251
        }
      },
      "cell_type": "code",
      "source": [
        "DAT=pd.read_csv(\"Paper_Carvao_China_abril_12_2016.csv\")\n",
        "print(DAT.head())"
      ],
      "execution_count": 5,
      "outputs": [
        {
          "output_type": "stream",
          "text": [
            "   Unnamed: 0 Cod  Water    Ash  Volatil   FixC  NetCal  Carbon  Hydrog  \\\n",
            "0           1  LL   4.19  19.45    33.19  43.17   23.91   59.22    4.08   \n",
            "1           2  YY   1.06  20.46    31.53  46.94   23.91   64.22    4.63   \n",
            "2           3  SF   6.60   9.56    31.49  52.35   26.22   66.34    3.61   \n",
            "3           4  YM   9.47  14.19    30.02  46.32   23.80   58.44    2.92   \n",
            "4           5  ZZ   1.84  18.10    29.43  50.63   27.73   65.88    4.06   \n",
            "\n",
            "   Nitro  Sulfur  Oxygen   TC     Ea  \n",
            "0   1.02    4.38    7.66  435  170.1  \n",
            "1   1.38    0.74    7.51  451  206.6  \n",
            "2   0.95    0.38   12.56  431  273.5  \n",
            "3   0.83    0.44   13.71  403  160.8  \n",
            "4   1.22    0.88    8.02  466  228.4  \n"
          ],
          "name": "stdout"
        }
      ]
    },
    {
      "metadata": {
        "id": "XX6YzHtEzkzy",
        "colab_type": "code",
        "colab": {
          "base_uri": "https://localhost:8080/",
          "height": 125
        },
        "outputId": "fe55101d-e597-42ca-8d35-572feac803af"
      },
      "cell_type": "code",
      "source": [
        "# separa as colunas de interesse\n",
        "Index=range(2,7)\n",
        "Dat_Select=[]\n",
        "Dat_Select=DAT.iloc[:,Index].copy()\n",
        "print(Dat_Select.head())"
      ],
      "execution_count": 6,
      "outputs": [
        {
          "output_type": "stream",
          "text": [
            "   Water    Ash  Volatil   FixC  NetCal\n",
            "0   4.19  19.45    33.19  43.17   23.91\n",
            "1   1.06  20.46    31.53  46.94   23.91\n",
            "2   6.60   9.56    31.49  52.35   26.22\n",
            "3   9.47  14.19    30.02  46.32   23.80\n",
            "4   1.84  18.10    29.43  50.63   27.73\n"
          ],
          "name": "stdout"
        }
      ]
    },
    {
      "metadata": {
        "id": "giUvFI4Ezkz1",
        "colab_type": "code",
        "colab": {}
      },
      "cell_type": "code",
      "source": [
        "# separa os dados em normatizados e originais\n",
        "DAT_OLD=[]\n",
        "DAT_OLD=Dat_Select.copy()\n",
        "DAT=Normatiza(Dat_Select)"
      ],
      "execution_count": 0,
      "outputs": []
    },
    {
      "metadata": {
        "id": "YLkFAidnzkz5",
        "colab_type": "code",
        "colab": {
          "base_uri": "https://localhost:8080/",
          "height": 341
        },
        "outputId": "ae9c97ed-d7c1-432c-f0ee-0b4cabc9a0b3"
      },
      "cell_type": "code",
      "source": [
        "# separa os dados em treino e teste\n",
        "train=DAT.sample(frac=0.8,random_state=None) # poderia ser frac=0.5? sim ou nao?\n",
        "test=DAT.drop(train.index)\n",
        "print(train.head())\n",
        "Col_Indep=['Water', 'Ash', 'Volatil', 'FixC']\n",
        "print(test.head())\n",
        "print(\"=======================\")\n",
        "print(test.shape[0])\n",
        "print(test.shape[1])\n",
        "print(train.shape[0])\n",
        "print(train.shape[1])\n",
        "print(\"=======================\")"
      ],
      "execution_count": 8,
      "outputs": [
        {
          "output_type": "stream",
          "text": [
            "       Water       Ash   Volatil      FixC    NetCal\n",
            "35 -0.350649 -0.230126  0.342709 -0.060038 -0.022333\n",
            "63 -0.752066 -0.320781 -0.181347  0.412758  0.346567\n",
            "23 -0.239669 -0.414226  0.737972 -0.208724  0.047146\n",
            "48 -0.841795  0.217573 -0.140637  0.042683 -0.129859\n",
            "9  -0.645809 -0.661088  0.472243  0.206379  0.685691\n",
            "       Water       Ash   Volatil      FixC    NetCal\n",
            "2   0.322314 -1.000000  0.874167 -0.012664  0.267163\n",
            "5  -0.714286 -0.393305  0.718727 -0.116323  0.412738\n",
            "10 -0.853601  0.109484  0.269430 -0.142120  0.181141\n",
            "19  0.343566 -0.291492  0.647668 -0.349906 -0.454094\n",
            "24  0.093270 -0.233612  0.530718 -0.265009 -0.381307\n",
            "=======================\n",
            "13\n",
            "5\n",
            "51\n",
            "5\n",
            "=======================\n"
          ],
          "name": "stdout"
        }
      ]
    },
    {
      "metadata": {
        "id": "iTEK1rTXzkz8",
        "colab_type": "code",
        "colab": {
          "base_uri": "https://localhost:8080/",
          "height": 233
        },
        "outputId": "cf9c7104-87c2-4f3a-ef66-10441d0a2203"
      },
      "cell_type": "code",
      "source": [
        "# obtem as variaveis independentes (treino e teste)\n",
        "x_train=train[Col_Indep]\n",
        "x_test=test[Col_Indep]\n",
        "X_OLD=DAT_OLD[Col_Indep]\n",
        "print(x_test.head())\n",
        "print(\"=======================\")\n",
        "print(x_train.shape[0])\n",
        "print(x_train.shape[1])\n",
        "print(x_test.shape[0])\n",
        "print(x_test.shape[1])\n",
        "print(\"=======================\")"
      ],
      "execution_count": 9,
      "outputs": [
        {
          "output_type": "stream",
          "text": [
            "       Water       Ash   Volatil      FixC\n",
            "2   0.322314 -1.000000  0.874167 -0.012664\n",
            "5  -0.714286 -0.393305  0.718727 -0.116323\n",
            "10 -0.853601  0.109484  0.269430 -0.142120\n",
            "19  0.343566 -0.291492  0.647668 -0.349906\n",
            "24  0.093270 -0.233612  0.530718 -0.265009\n",
            "=======================\n",
            "51\n",
            "4\n",
            "13\n",
            "4\n",
            "=======================\n"
          ],
          "name": "stdout"
        }
      ]
    },
    {
      "metadata": {
        "id": "J6axeAx-zk0C",
        "colab_type": "code",
        "outputId": "7ec45cfb-c379-4f85-8a29-4bd616c26b06",
        "colab": {
          "base_uri": "https://localhost:8080/",
          "height": 449
        }
      },
      "cell_type": "code",
      "source": [
        "# obtem as variaveis dependentes (treino e teste)\n",
        "Index=[ 'NetCal']\n",
        "y_train=train[Index]\n",
        "y_test=test[Index]\n",
        "Y_OLD=DAT_OLD[Index]\n",
        "print(Y_OLD.head())\n",
        "print(x_train.head())\n",
        "print(y_test.head())\n",
        "print(\"=======================\")\n",
        "print(y_train.shape[0])\n",
        "print(y_train.shape[1])\n",
        "print(y_test.shape[0])\n",
        "print(y_test.shape[1])\n",
        "print(\"=======================\")"
      ],
      "execution_count": 10,
      "outputs": [
        {
          "output_type": "stream",
          "text": [
            "   NetCal\n",
            "0   23.91\n",
            "1   23.91\n",
            "2   26.22\n",
            "3   23.80\n",
            "4   27.73\n",
            "       Water       Ash   Volatil      FixC\n",
            "35 -0.350649 -0.230126  0.342709 -0.060038\n",
            "63 -0.752066 -0.320781 -0.181347  0.412758\n",
            "23 -0.239669 -0.414226  0.737972 -0.208724\n",
            "48 -0.841795  0.217573 -0.140637  0.042683\n",
            "9  -0.645809 -0.661088  0.472243  0.206379\n",
            "      NetCal\n",
            "2   0.267163\n",
            "5   0.412738\n",
            "10  0.181141\n",
            "19 -0.454094\n",
            "24 -0.381307\n",
            "=======================\n",
            "51\n",
            "1\n",
            "13\n",
            "1\n",
            "=======================\n"
          ],
          "name": "stdout"
        }
      ]
    },
    {
      "metadata": {
        "id": "V6wOyxX3zk0I",
        "colab_type": "code",
        "colab": {}
      },
      "cell_type": "code",
      "source": [
        "# define a rede neural \n",
        "N_Hidden=10\n",
        "clf = MLPRegressor(solver='lbfgs',activation='tanh',alpha=1e-5,hidden_layer_sizes=(N_Hidden), \n",
        "                    random_state=1)"
      ],
      "execution_count": 0,
      "outputs": []
    },
    {
      "metadata": {
        "id": "DcLo26N2zk0M",
        "colab_type": "code",
        "outputId": "8a70aedf-cd40-4f69-b007-6c8ff4903f25",
        "colab": {
          "base_uri": "https://localhost:8080/",
          "height": 199
        }
      },
      "cell_type": "code",
      "source": [
        "# treina a rede neural\n",
        "clf.fit(x_train, y_train)"
      ],
      "execution_count": 12,
      "outputs": [
        {
          "output_type": "stream",
          "text": [
            "/usr/local/lib/python3.6/dist-packages/sklearn/neural_network/multilayer_perceptron.py:1306: DataConversionWarning: A column-vector y was passed when a 1d array was expected. Please change the shape of y to (n_samples, ), for example using ravel().\n",
            "  y = column_or_1d(y, warn=True)\n"
          ],
          "name": "stderr"
        },
        {
          "output_type": "execute_result",
          "data": {
            "text/plain": [
              "MLPRegressor(activation='tanh', alpha=1e-05, batch_size='auto', beta_1=0.9,\n",
              "       beta_2=0.999, early_stopping=False, epsilon=1e-08,\n",
              "       hidden_layer_sizes=10, learning_rate='constant',\n",
              "       learning_rate_init=0.001, max_iter=200, momentum=0.9,\n",
              "       nesterovs_momentum=True, power_t=0.5, random_state=1, shuffle=True,\n",
              "       solver='lbfgs', tol=0.0001, validation_fraction=0.1, verbose=False,\n",
              "       warm_start=False)"
            ]
          },
          "metadata": {
            "tags": []
          },
          "execution_count": 12
        }
      ]
    },
    {
      "metadata": {
        "id": "S-ZMrvP9zk0R",
        "colab_type": "code",
        "colab": {}
      },
      "cell_type": "code",
      "source": [
        "# usa a rede neural treina em calculos para treino e teste\n",
        "y_calc_train=clf.predict(x_train)\n",
        "y_calc_test=clf.predict(x_test)\n",
        "#print(y_calc_train)\n",
        "#print(Y_OLD)"
      ],
      "execution_count": 0,
      "outputs": []
    },
    {
      "metadata": {
        "id": "z0k-MXzVzk0V",
        "colab_type": "code",
        "colab": {}
      },
      "cell_type": "code",
      "source": [
        "# transforma a saida da rede em dataframe \n",
        "y_calc_train=pd.DataFrame(y_calc_train)\n",
        "y_calc_test=pd.DataFrame(y_calc_test)\n",
        "col_names=list(y_train)\n",
        "y_calc_train.columns = col_names\n",
        "y_calc_test.columns = col_names"
      ],
      "execution_count": 0,
      "outputs": []
    },
    {
      "metadata": {
        "id": "C-1ktMvKzk0Z",
        "colab_type": "code",
        "outputId": "cca37697-ab83-4e94-ef13-25bfde61d826",
        "colab": {
          "base_uri": "https://localhost:8080/",
          "height": 125
        }
      },
      "cell_type": "code",
      "source": [
        "# transforma dos dados calculados na forma original (nao normatizado)\n",
        "y_calc_train=Original(y_calc_train,Y_OLD)\n",
        "y_calc_test=Original(y_calc_test,Y_OLD)\n",
        "y_test=Original(y_test,Y_OLD)\n",
        "y_train=Original(y_train,Y_OLD)\n",
        "#print(y_calc_train)\n",
        "#print(y_test)\n",
        "#print(y_calc_test)\n",
        "#print(Y_OLD)"
      ],
      "execution_count": 15,
      "outputs": [
        {
          "output_type": "stream",
          "text": [
            "/usr/local/lib/python3.6/dist-packages/ipykernel_launcher.py:8: SettingWithCopyWarning: \n",
            "A value is trying to be set on a copy of a slice from a DataFrame.\n",
            "Try using .loc[row_indexer,col_indexer] = value instead\n",
            "\n",
            "See the caveats in the documentation: http://pandas.pydata.org/pandas-docs/stable/indexing.html#indexing-view-versus-copy\n",
            "  \n"
          ],
          "name": "stderr"
        }
      ]
    },
    {
      "metadata": {
        "id": "qxgAeFwl64Db",
        "colab_type": "code",
        "colab": {
          "base_uri": "https://localhost:8080/",
          "height": 279
        },
        "outputId": "081bc4ff-7c23-4512-955d-e8a0a71a299d"
      },
      "cell_type": "code",
      "source": [
        "# expressa os dois dados em figura\n",
        "fig = plt.figure()\n",
        "ax1 = fig.add_subplot(111)\n",
        "\n",
        "ax1.scatter(y_test.values,y_calc_test.values, s=10, c='b', marker=\"s\", label='teste')\n",
        "ax1.scatter(y_train.values,y_calc_train.values, s=10, c='r', marker=\"o\", label='treino')\n",
        "plt.legend(loc='upper left')\n",
        "plt.ylabel('NetCal ANN')\n",
        "plt.xlabel('NetCal Calc')\n",
        "plt.show()"
      ],
      "execution_count": 16,
      "outputs": [
        {
          "output_type": "display_data",
          "data": {
            "image/png": "[encoded data removed]",
            "text/plain": [
              "<matplotlib.figure.Figure at 0x7fe1554a0f28>"
            ]
          },
          "metadata": {
            "tags": []
          }
        }
      ]
    },
    {
      "metadata": {
        "id": "ffcIWpGGzk0j",
        "colab_type": "code",
        "colab": {}
      },
      "cell_type": "code",
      "source": [
        "def function(x):\n",
        "  global clf\n",
        "  x=x.reshape((1, 4))\n",
        "  df = pd.DataFrame(x)\n",
        "  Y=clf.predict(df)\n",
        "  fun=Y*(-1)\n",
        "  return fun\n"
      ],
      "execution_count": 0,
      "outputs": []
    },
    {
      "metadata": {
        "id": "hUwDOiuTzk0p",
        "colab_type": "code",
        "outputId": "1d7f63f1-f432-480a-bd40-b83706c223ab",
        "colab": {
          "base_uri": "https://localhost:8080/",
          "height": 53
        }
      },
      "cell_type": "code",
      "source": [
        "bounds = [(-2, 2),(-2, 2),(-2, 2),(-2, 2)]\n",
        "OLD=Y_OLD\n",
        "Condicoes = optimize.differential_evolution(function,bounds,\n",
        "                                      init=\"latinhypercube\", # obs: init=\"random\"\n",
        "                                      maxiter=100, popsize=50,recombination=0.5)\n",
        "Condicoes=pd.DataFrame(Condicoes.x.reshape(1, 4))\n",
        "print(Condicoes)"
      ],
      "execution_count": 25,
      "outputs": [
        {
          "output_type": "stream",
          "text": [
            "     0    1         2         3\n",
            "0 -2.0 -2.0  0.942278  0.802715\n"
          ],
          "name": "stdout"
        }
      ]
    },
    {
      "metadata": {
        "id": "EAwU4pP5F8yY",
        "colab_type": "code",
        "colab": {
          "base_uri": "https://localhost:8080/",
          "height": 35
        },
        "outputId": "ae5b4ba3-4a1e-4e45-e67e-f74d47036d0d"
      },
      "cell_type": "code",
      "source": [
        "print(\"global minimum: x = \",Condicoes.x, \"f(x0) = \",Condicoes.fun)"
      ],
      "execution_count": 22,
      "outputs": [
        {
          "output_type": "stream",
          "text": [
            "global minimum: x =  [-2.         -2.          0.94226747  0.80269887] f(x0) =  [-3.69282376]\n"
          ],
          "name": "stdout"
        }
      ]
    },
    {
      "metadata": {
        "id": "aGU-Vpu9zk0y",
        "colab_type": "code",
        "colab": {}
      },
      "cell_type": "code",
      "source": [
        "print(\"hello world,I am evolving!!!\")"
      ],
      "execution_count": 0,
      "outputs": []
    }
  ]
}