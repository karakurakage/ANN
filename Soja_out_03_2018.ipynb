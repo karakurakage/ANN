{
 "cells": [
  {
   "cell_type": "code",
   "execution_count": 1,
   "metadata": {},
   "outputs": [],
   "source": [
    "import os\n",
    "import numpy as np\n",
    "import pandas as pd\n",
    "import matplotlib.pyplot as plt\n",
    "from pandas import ExcelWriter\n",
    "from pandas import ExcelFile\n",
    "%matplotlib inline"
   ]
  },
  {
   "cell_type": "code",
   "execution_count": 2,
   "metadata": {},
   "outputs": [],
   "source": [
    "import statsmodels.api as sm\n",
    "import statsmodels.formula.api as smf"
   ]
  },
  {
   "cell_type": "code",
   "execution_count": 3,
   "metadata": {},
   "outputs": [],
   "source": [
    "# funcao normatiza dados\n",
    "def Normatiza(x):\n",
    "    strings=['SL','time','TC']\n",
    "    for i in strings:\n",
    "        max_x=x[i].max()\n",
    "        min_x=x[i].min()\n",
    "        x_M=(max_x+min_x)/2\n",
    "        x[i]=(x[i]-x_M)/(max_x-x_M)\n",
    "    return x"
   ]
  },
  {
   "cell_type": "code",
   "execution_count": 4,
   "metadata": {},
   "outputs": [],
   "source": [
    "path=\"/home/ucfilho/Documents/Aulas/ANN_2018/Out_03_2018\"\n",
    "os.chdir(path)"
   ]
  },
  {
   "cell_type": "code",
   "execution_count": 5,
   "metadata": {},
   "outputs": [
    {
     "name": "stdout",
     "output_type": "stream",
     "text": [
      "      SL  time  TC     MG    WU  Prot     MGc    WUc  Protc\n",
      "0  0.333     8  65  116.4  53.3  88.4  113.50  52.14  89.68\n",
      "1  0.333     2  65  109.3  55.6  88.0  110.93  55.81  88.33\n",
      "2  0.333     8  45  122.7  51.1  90.5  121.08  50.89  90.18\n",
      "3  0.200     8  55  122.5  33.3  90.9  128.06  31.65  91.08\n",
      "4  0.200     2  55  119.1  46.7  92.0  120.14  43.66  93.13\n"
     ]
    }
   ],
   "source": [
    "DAT=pd.read_csv(\"Soja_out_03_2018.txt\",sep='\\t')\n",
    "print(DAT.head())"
   ]
  },
  {
   "cell_type": "code",
   "execution_count": 6,
   "metadata": {},
   "outputs": [
    {
     "name": "stdout",
     "output_type": "stream",
     "text": [
      "       SL  time   TC     MG    WU  Prot     MGc    WUc  Protc\n",
      "0 -0.6675   1.0  1.0  116.4  53.3  88.4  113.50  52.14  89.68\n",
      "1 -0.6675  -1.0  1.0  109.3  55.6  88.0  110.93  55.81  88.33\n",
      "2 -0.6675   1.0 -1.0  122.7  51.1  90.5  121.08  50.89  90.18\n",
      "3 -1.0000   1.0  0.0  122.5  33.3  90.9  128.06  31.65  91.08\n",
      "4 -1.0000  -1.0  0.0  119.1  46.7  92.0  120.14  43.66  93.13\n"
     ]
    }
   ],
   "source": [
    "DAT=Normatiza(DAT)\n",
    "print(DAT.head())"
   ]
  },
  {
   "cell_type": "code",
   "execution_count": 7,
   "metadata": {},
   "outputs": [],
   "source": [
    "writer = ExcelWriter('Soja.xlsx')\n",
    "DAT.to_excel(writer,'Sheet1',index=False)\n",
    "writer.save()"
   ]
  },
  {
   "cell_type": "code",
   "execution_count": 8,
   "metadata": {},
   "outputs": [
    {
     "name": "stdout",
     "output_type": "stream",
     "text": [
      "       SL  time   TC\n",
      "0 -0.6675   1.0  1.0\n",
      "1 -0.6675  -1.0  1.0\n",
      "2 -0.6675   1.0 -1.0\n",
      "3 -1.0000   1.0  0.0\n",
      "4 -1.0000  -1.0  0.0\n",
      "      MG    WU  Prot\n",
      "0  116.4  53.3  88.4\n",
      "1  109.3  55.6  88.0\n",
      "2  122.7  51.1  90.5\n",
      "3  122.5  33.3  90.9\n",
      "4  119.1  46.7  92.0\n"
     ]
    }
   ],
   "source": [
    "X = DAT[['SL','time','TC']]\n",
    "y= DAT[['MG','WU','Prot']]\n",
    "print(X.head())\n",
    "print(y.head())\n"
   ]
  },
  {
   "cell_type": "code",
   "execution_count": 9,
   "metadata": {},
   "outputs": [
    {
     "name": "stdout",
     "output_type": "stream",
     "text": [
      "                            OLS Regression Results                            \n",
      "==============================================================================\n",
      "Dep. Variable:                     MG   R-squared:                       0.975\n",
      "Model:                            OLS   Adj. R-squared:                  0.944\n",
      "Method:                 Least Squares   F-statistic:                     30.95\n",
      "Date:                Wed, 03 Oct 2018   Prob (F-statistic):           8.03e-05\n",
      "Time:                        13:16:54   Log-Likelihood:                -41.650\n",
      "No. Observations:                  17   AIC:                             103.3\n",
      "Df Residuals:                       7   BIC:                             111.6\n",
      "Df Model:                           9                                         \n",
      "Covariance Type:            nonrobust                                         \n",
      "==================================================================================\n",
      "                     coef    std err          t      P>|t|      [95.0% Conf. Int.]\n",
      "----------------------------------------------------------------------------------\n",
      "Intercept        115.9709      3.644     31.828      0.000       107.355   124.587\n",
      "SL               -20.4000      1.545    -13.204      0.000       -24.053   -16.747\n",
      "time               2.0228      1.680      1.204      0.268        -1.949     5.995\n",
      "TC                -3.6842      1.680     -2.193      0.064        -7.656     0.288\n",
      "I(SL ** 2.0)      -7.7384      4.268     -1.813      0.113       -17.830     2.353\n",
      "I(time ** 2.0)    -4.5325      2.130     -2.128      0.071        -9.568     0.503\n",
      "I(TC ** 2.0)      -7.0825      2.130     -3.326      0.013       -12.118    -2.047\n",
      "I(TC * time)      -1.4750      2.185     -0.675      0.521        -6.642     3.692\n",
      "I(TC * SL)        -4.1099      1.976     -2.080      0.076        -8.782     0.562\n",
      "I(SL * time)      -2.2164      1.976     -1.122      0.299        -6.889     2.456\n",
      "==============================================================================\n",
      "Omnibus:                        0.727   Durbin-Watson:                   2.369\n",
      "Prob(Omnibus):                  0.695   Jarque-Bera (JB):                0.720\n",
      "Skew:                          -0.282   Prob(JB):                        0.698\n",
      "Kurtosis:                       2.164   Cond. No.                         7.62\n",
      "==============================================================================\n",
      "\n",
      "Warnings:\n",
      "[1] Standard Errors assume that the covariance matrix of the errors is correctly specified.\n"
     ]
    },
    {
     "name": "stderr",
     "output_type": "stream",
     "text": [
      "/usr/lib64/python3.5/site-packages/scipy/stats/stats.py:1327: UserWarning: kurtosistest only valid for n>=20 ... continuing anyway, n=17\n",
      "  \"anyway, n=%i\" % int(n))\n"
     ]
    }
   ],
   "source": [
    "formula='MG ~ SL+time+TC+I(SL**2.0)+I(time**2.0)+I(TC**2.0)+I(TC*time)+I(TC*SL)+I(SL*time)'\n",
    "est = smf.ols(formula, data=DAT).fit()\n",
    "print(est.summary())"
   ]
  }
 ],
 "metadata": {
  "kernelspec": {
   "display_name": "Python 3",
   "language": "python",
   "name": "python3"
  },
  "language_info": {
   "codemirror_mode": {
    "name": "ipython",
    "version": 3
   },
   "file_extension": ".py",
   "mimetype": "text/x-python",
   "name": "python",
   "nbconvert_exporter": "python",
   "pygments_lexer": "ipython3",
   "version": "3.5.4"
  }
 },
 "nbformat": 4,
 "nbformat_minor": 2
}
