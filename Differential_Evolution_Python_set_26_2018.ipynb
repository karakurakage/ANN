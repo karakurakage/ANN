{
 "cells": [
  {
   "cell_type": "code",
   "execution_count": 1,
   "metadata": {},
   "outputs": [],
   "source": [
    "import numpy as np\n",
    "import pandas as pd\n",
    "from scipy import optimize"
   ]
  },
  {
   "cell_type": "code",
   "execution_count": 2,
   "metadata": {},
   "outputs": [],
   "source": [
    "'''Rosembrock Function'''\n",
    "def function(x):\n",
    "    fun=0\n",
    "    a=1.0\n",
    "    b=100.0\n",
    "    fun = (a-x[0])**2 + b*(x[1]-x[0]**2)**2\n",
    "    return fun"
   ]
  },
  {
   "cell_type": "code",
   "execution_count": 3,
   "metadata": {},
   "outputs": [],
   "source": [
    "x0 = np.array([2., 2.])\n",
    "# Initial guess."
   ]
  },
  {
   "cell_type": "code",
   "execution_count": 4,
   "metadata": {},
   "outputs": [],
   "source": [
    "bounds = [(-5, 5), (-5, 5)]\n",
    "ret = optimize.differential_evolution(function,bounds,\n",
    "                                      init=\"latinhypercube\", # obs: init=\"random\"\n",
    "                                      maxiter=200, popsize=40,recombination=0.5)"
   ]
  },
  {
   "cell_type": "code",
   "execution_count": 5,
   "metadata": {},
   "outputs": [
    {
     "name": "stdout",
     "output_type": "stream",
     "text": [
      "global minimum: x =  [ 1.  1.] f(x0) =  8.75967450031e-22\n"
     ]
    }
   ],
   "source": [
    "print(\"global minimum: x = \",ret.x, \"f(x0) = \",ret.fun)"
   ]
  }
 ],
 "metadata": {
  "kernelspec": {
   "display_name": "Python 3",
   "language": "python",
   "name": "python3"
  },
  "language_info": {
   "codemirror_mode": {
    "name": "ipython",
    "version": 3
   },
   "file_extension": ".py",
   "mimetype": "text/x-python",
   "name": "python",
   "nbconvert_exporter": "python",
   "pygments_lexer": "ipython3",
   "version": "3.5.4"
  }
 },
 "nbformat": 4,
 "nbformat_minor": 2
}
