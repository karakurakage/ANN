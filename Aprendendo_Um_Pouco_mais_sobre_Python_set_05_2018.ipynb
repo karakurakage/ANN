{
  "nbformat": 4,
  "nbformat_minor": 0,
  "metadata": {
    "colab": {
      "name": "Aprendendo_Um_Pouco_mais_sobre_Python.ipynb",
      "version": "0.3.2",
      "provenance": []
    },
    "kernelspec": {
      "name": "python3",
      "display_name": "Python 3"
    }
  },
  "cells": [
    {
      "metadata": {
        "id": "qfpUkkxGlTCh",
        "colab_type": "text"
      },
      "cell_type": "markdown",
      "source": [
        "**Aprendendo um pouco mais so           bre Python, tente fazer sem ver as respostas....**"
      ]
    },
    {
      "metadata": {
        "id": "bVAW6JHOjmYZ",
        "colab_type": "text"
      },
      "cell_type": "markdown",
      "source": [
        "qual a saida do print abaixo?"
      ]
    },
    {
      "metadata": {
        "id": "nAqiQbYlbI_g",
        "colab_type": "code",
        "colab": {
          "base_uri": "https://localhost:8080/",
          "height": 35
        },
        "outputId": "392bca02-9acd-4a4f-b645-e574797a6411"
      },
      "cell_type": "code",
      "source": [
        "print(type(('cão', 'gato', ' elefante', 'cobra', 'vespa')))"
      ],
      "execution_count": 1,
      "outputs": [
        {
          "output_type": "stream",
          "text": [
            "<class 'tuple'>\n"
          ],
          "name": "stdout"
        }
      ]
    },
    {
      "metadata": {
        "id": "GqYfzjFog-WU",
        "colab_type": "text"
      },
      "cell_type": "markdown",
      "source": [
        "Qual a saida do trecho de programa em Python abaixo?"
      ]
    },
    {
      "metadata": {
        "id": "qbtBbm9kc3Rx",
        "colab_type": "code",
        "colab": {
          "base_uri": "https://localhost:8080/",
          "height": 35
        },
        "outputId": "e7e25141-d449-4f65-b7b6-c344a9ffafef"
      },
      "cell_type": "code",
      "source": [
        "x = 1\n",
        "print(++++x)"
      ],
      "execution_count": 2,
      "outputs": [
        {
          "output_type": "stream",
          "text": [
            "1\n"
          ],
          "name": "stdout"
        }
      ]
    },
    {
      "metadata": {
        "id": "L5yFbQj1g3kv",
        "colab_type": "text"
      },
      "cell_type": "markdown",
      "source": [
        "Qual a fruta o programa em Python abaixo exibe?"
      ]
    },
    {
      "metadata": {
        "id": "2kUuuQoxdCag",
        "colab_type": "code",
        "colab": {
          "base_uri": "https://localhost:8080/",
          "height": 35
        },
        "outputId": "23830ae3-a541-4c33-ce39-609edf42d471"
      },
      "cell_type": "code",
      "source": [
        "frutas = ['morango', 'abacaxi', 'banana', 'coco']\n",
        "print(frutas[-2])"
      ],
      "execution_count": 3,
      "outputs": [
        {
          "output_type": "stream",
          "text": [
            "banana\n"
          ],
          "name": "stdout"
        }
      ]
    },
    {
      "metadata": {
        "id": "SJL-YxmLkdeK",
        "colab_type": "text"
      },
      "cell_type": "markdown",
      "source": [
        "Qual a saida do programa abaixo?"
      ]
    },
    {
      "metadata": {
        "id": "ZNOhhzB9dARh",
        "colab_type": "code",
        "colab": {
          "base_uri": "https://localhost:8080/",
          "height": 35
        },
        "outputId": "971e81ab-3f9c-4051-a603-c3f58de51b17"
      },
      "cell_type": "code",
      "source": [
        "L=[1,2,3,4,5,6,7,8]\n",
        "print(L[::-1])"
      ],
      "execution_count": 4,
      "outputs": [
        {
          "output_type": "stream",
          "text": [
            "[8, 7, 6, 5, 4, 3, 2, 1]\n"
          ],
          "name": "stdout"
        }
      ]
    },
    {
      "metadata": {
        "id": "RpBULQJLkjqR",
        "colab_type": "text"
      },
      "cell_type": "markdown",
      "source": [
        "Qual a saida do programa abaixo?"
      ]
    },
    {
      "metadata": {
        "id": "32UGGqt9eG6n",
        "colab_type": "code",
        "colab": {
          "base_uri": "https://localhost:8080/",
          "height": 272
        },
        "outputId": "8d174409-9aa2-4645-fa53-55f400d1b482"
      },
      "cell_type": "code",
      "source": [
        "for n in range(2, 10):\n",
        "  for x in range(2, n):\n",
        "      if n % x == 0:\n",
        "        print(n, '=', x, '*', n/x )\n",
        "        break\n",
        "      else:\n",
        "        print(n,'é um número primo')  \n"
      ],
      "execution_count": 5,
      "outputs": [
        {
          "output_type": "stream",
          "text": [
            "3 é um número primo\n",
            "4 = 2 * 2.0\n",
            "5 é um número primo\n",
            "5 é um número primo\n",
            "5 é um número primo\n",
            "6 = 2 * 3.0\n",
            "7 é um número primo\n",
            "7 é um número primo\n",
            "7 é um número primo\n",
            "7 é um número primo\n",
            "7 é um número primo\n",
            "8 = 2 * 4.0\n",
            "9 é um número primo\n",
            "9 = 3 * 3.0\n"
          ],
          "name": "stdout"
        }
      ]
    },
    {
      "metadata": {
        "id": "GPl_u6sNgzA2",
        "colab_type": "text"
      },
      "cell_type": "markdown",
      "source": [
        "O que o trecho de programa em Python abaixo exibe:"
      ]
    },
    {
      "metadata": {
        "id": "EOwRdAFZe7Tb",
        "colab_type": "code",
        "colab": {
          "base_uri": "https://localhost:8080/",
          "height": 72
        },
        "outputId": "848024bf-0470-4c0f-8b41-04d7da128073"
      },
      "cell_type": "code",
      "source": [
        "a = ['Casa', 'Mala', 'Prova']  \n",
        "for x in a:\n",
        "  print( x, len(x))"
      ],
      "execution_count": 6,
      "outputs": [
        {
          "output_type": "stream",
          "text": [
            "Casa 4\n",
            "Mala 4\n",
            "Prova 5\n"
          ],
          "name": "stdout"
        }
      ]
    },
    {
      "metadata": {
        "id": "zVpWbiEKguK7",
        "colab_type": "text"
      },
      "cell_type": "markdown",
      "source": [
        "O que o trecho de programa em Python abaixo exibe:"
      ]
    },
    {
      "metadata": {
        "id": "bKo9MQL7gMkK",
        "colab_type": "code",
        "colab": {
          "base_uri": "https://localhost:8080/",
          "height": 35
        },
        "outputId": "9e212557-0fca-4a58-9f74-33311983cff7"
      },
      "cell_type": "code",
      "source": [
        "X=[]\n",
        "for i in range(10,1,-1):\n",
        "  X.append(i)\n",
        "print(X[3:] )"
      ],
      "execution_count": 7,
      "outputs": [
        {
          "output_type": "stream",
          "text": [
            "[7, 6, 5, 4, 3, 2]\n"
          ],
          "name": "stdout"
        }
      ]
    },
    {
      "metadata": {
        "id": "hCHUUulogfPe",
        "colab_type": "text"
      },
      "cell_type": "markdown",
      "source": [
        "O que o trecho de programa em Python abaixo exibe: "
      ]
    },
    {
      "metadata": {
        "id": "rxAYqUNtgV4e",
        "colab_type": "code",
        "colab": {
          "base_uri": "https://localhost:8080/",
          "height": 35
        },
        "outputId": "7cf25c58-a358-4a46-8bc6-bafb303c7685"
      },
      "cell_type": "code",
      "source": [
        "X=[]\n",
        "for i in range(10,1,-1):\n",
        "  X.append(i)\n",
        "print(X)"
      ],
      "execution_count": 8,
      "outputs": [
        {
          "output_type": "stream",
          "text": [
            "[10, 9, 8, 7, 6, 5, 4, 3, 2]\n"
          ],
          "name": "stdout"
        }
      ]
    },
    {
      "metadata": {
        "id": "BuKMVfXShNmG",
        "colab_type": "text"
      },
      "cell_type": "markdown",
      "source": [
        "Considere o código abaixo digitado em Python.\n",
        " \n",
        "______I______ contar(n):\n",
        "a = 1\n",
        "while a < n:\n",
        "print a,\n",
        "a = a+1\n",
        "contar(10)\n"
      ]
    },
    {
      "metadata": {
        "id": "BlAixEKahP7U",
        "colab_type": "text"
      },
      "cell_type": "markdown",
      "source": [
        "O que falta no lugar de I?"
      ]
    },
    {
      "metadata": {
        "id": "nm5lQwThhU89",
        "colab_type": "text"
      },
      "cell_type": "markdown",
      "source": [
        "Resp: def"
      ]
    },
    {
      "metadata": {
        "id": "V-1vyPgshsWU",
        "colab_type": "text"
      },
      "cell_type": "markdown",
      "source": [
        ""
      ]
    },
    {
      "metadata": {
        "id": "Bm5WIlT0hcv4",
        "colab_type": "code",
        "colab": {
          "base_uri": "https://localhost:8080/",
          "height": 181
        },
        "outputId": "ef75b93c-d72f-4f07-bd04-85e6bdaeab0b"
      },
      "cell_type": "code",
      "source": [
        "def contar(n):\n",
        "  a = 1 \n",
        "  while a < n: \n",
        "    print(a)\n",
        "    a = a+1\n",
        "contar(10)"
      ],
      "execution_count": 9,
      "outputs": [
        {
          "output_type": "stream",
          "text": [
            "1\n",
            "2\n",
            "3\n",
            "4\n",
            "5\n",
            "6\n",
            "7\n",
            "8\n",
            "9\n"
          ],
          "name": "stdout"
        }
      ]
    },
    {
      "metadata": {
        "id": "_MEsF1DciExG",
        "colab_type": "text"
      },
      "cell_type": "markdown",
      "source": [
        "Referente ao codigo acima: \n",
        "a, b = 0, 1\n",
        "\n",
        "while b < 10:\n",
        "\n",
        "    print( b)\n",
        "    \n",
        "    a, b = b, a+b\n",
        "    \n",
        "    \n",
        "Quais os ultimos valores armazenados em a, b?"
      ]
    },
    {
      "metadata": {
        "id": "iCkO16uJiPmj",
        "colab_type": "code",
        "colab": {
          "base_uri": "https://localhost:8080/",
          "height": 363
        },
        "outputId": "eca60ee9-295c-4c64-e006-21ef76a1fe81"
      },
      "cell_type": "code",
      "source": [
        "a, b = 0, 1\n",
        "while b < 10:\n",
        "    print('a=',a)\n",
        "    print('b=',b)\n",
        "    print('----------------------------')\n",
        "    a, b = b, a+b\n",
        "print('a e b',a, b)"
      ],
      "execution_count": 10,
      "outputs": [
        {
          "output_type": "stream",
          "text": [
            "a= 0\n",
            "b= 1\n",
            "----------------------------\n",
            "a= 1\n",
            "b= 1\n",
            "----------------------------\n",
            "a= 1\n",
            "b= 2\n",
            "----------------------------\n",
            "a= 2\n",
            "b= 3\n",
            "----------------------------\n",
            "a= 3\n",
            "b= 5\n",
            "----------------------------\n",
            "a= 5\n",
            "b= 8\n",
            "----------------------------\n",
            "a e b 8 13\n"
          ],
          "name": "stdout"
        }
      ]
    },
    {
      "metadata": {
        "id": "va5lorwqjZro",
        "colab_type": "text"
      },
      "cell_type": "markdown",
      "source": [
        "Resp: 8 e 13 (obs: o ulitmo valor armazenado nao é o do print)"
      ]
    },
    {
      "metadata": {
        "id": "fdg59X9gjy1y",
        "colab_type": "text"
      },
      "cell_type": "markdown",
      "source": [
        "a,b=0,2\n",
        "\n",
        "while(b<20):\n",
        "\n",
        "  a,b=b,a+b+1\n",
        "  \n",
        "  print(b)\n"
      ]
    },
    {
      "metadata": {
        "id": "mJ005YqpkTso",
        "colab_type": "text"
      },
      "cell_type": "markdown",
      "source": [
        "Qual a saida do codigo abaixo?"
      ]
    },
    {
      "metadata": {
        "id": "pi_NJXhakBqe",
        "colab_type": "code",
        "colab": {
          "base_uri": "https://localhost:8080/",
          "height": 108
        },
        "outputId": "686a1b60-ec32-4e58-9b25-f2705472bcf6"
      },
      "cell_type": "code",
      "source": [
        "a,b=0,2\n",
        "while(b<20):\n",
        "  a,b=b,a+b+1\n",
        "  print(b)"
      ],
      "execution_count": 11,
      "outputs": [
        {
          "output_type": "stream",
          "text": [
            "3\n",
            "6\n",
            "10\n",
            "17\n",
            "28\n"
          ],
          "name": "stdout"
        }
      ]
    }
  ]
}