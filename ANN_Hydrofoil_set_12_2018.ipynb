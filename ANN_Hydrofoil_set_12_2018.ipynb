{
 "cells": [
  {
   "cell_type": "code",
   "execution_count": 1,
   "metadata": {},
   "outputs": [],
   "source": [
    "# bibliotecas usadas\n",
    "import os\n",
    "import numpy as np\n",
    "import pandas as pd\n",
    "import matplotlib.pyplot as plt\n",
    "from sklearn.neural_network import MLPRegressor"
   ]
  },
  {
   "cell_type": "code",
   "execution_count": 2,
   "metadata": {},
   "outputs": [],
   "source": [
    "# para gerar o grafico no browser\n",
    "%matplotlib inline"
   ]
  },
  {
   "cell_type": "code",
   "execution_count": 3,
   "metadata": {},
   "outputs": [],
   "source": [
    "# local dos dados e modifica o diretorio\n",
    "path='/home/ucfilho/Documents/Aulas/Ago_29_2018'\n",
    "os.chdir(path)"
   ]
  },
  {
   "cell_type": "code",
   "execution_count": 4,
   "metadata": {},
   "outputs": [],
   "source": [
    "# leitura dos dados\n",
    "DAT=pd.read_csv(\"Hydrofoil_ago_29_2018.csv\")\n",
    "#DAT=pd.read_csv(\"Hydrofoil_ago_29_2018.csv\",index_col=\"emit\")"
   ]
  },
  {
   "cell_type": "code",
   "execution_count": 5,
   "metadata": {},
   "outputs": [
    {
     "name": "stdout",
     "output_type": "stream",
     "text": [
      "   Hydrofoil    Froude  Resistence   Sinkage      Trim     Power\n",
      "0          1  0.000000    0.000000  0.000000  0.000000  0.000000\n",
      "1          1  0.103733    2.549729 -0.689028  1.353022  0.950991\n",
      "2          1  0.124480    3.628461 -0.835413  1.346323  1.624000\n",
      "3          1  0.165973    6.374322 -1.864337  1.361538  3.803965\n",
      "4          1  0.186719    8.217973 -2.301539  1.378858  5.517212\n"
     ]
    }
   ],
   "source": [
    "# separa as colunas de interesse\n",
    "Index=[2,3,4,5,6,7]\n",
    "Dat_Select=[]\n",
    "Dat_Select=DAT.iloc[:,Index].copy()\n",
    "print(Dat_Select.head())"
   ]
  },
  {
   "cell_type": "code",
   "execution_count": 6,
   "metadata": {},
   "outputs": [],
   "source": [
    "# funcao normatiza dados\n",
    "def Normatiza(x):\n",
    "    strings=list(x)\n",
    "    for i in strings:\n",
    "        max_x=x[i].max()\n",
    "        min_x=x[i].min()\n",
    "        a=(max_x+min_x)/2\n",
    "        b=(max_x-min_x)/2\n",
    "        x[i]=(x[i]-a)/b\n",
    "    return x"
   ]
  },
  {
   "cell_type": "code",
   "execution_count": 7,
   "metadata": {},
   "outputs": [],
   "source": [
    "# funcao retorna os dados a forma original\n",
    "def Original(x,x_old):\n",
    "    strings=list(x)\n",
    "    for i in strings:\n",
    "        max_x=x_old[i].max()\n",
    "        min_x=x_old[i].min()\n",
    "        a=(max_x+min_x)/2\n",
    "        b=(max_x-min_x)/2\n",
    "        x[i]=x[i]*b+a\n",
    "    return x"
   ]
  },
  {
   "cell_type": "code",
   "execution_count": 8,
   "metadata": {},
   "outputs": [
    {
     "name": "stdout",
     "output_type": "stream",
     "text": [
      "   Hydrofoil    Froude  Resistence   Sinkage      Trim     Power\n",
      "0       -1.0 -1.000000   -1.000000 -0.883085 -1.000000 -1.000000\n",
      "1       -1.0 -0.913570   -0.986458 -0.895478 -0.459481 -0.999415\n",
      "2       -1.0 -0.896283   -0.980729 -0.898111 -0.462157 -0.999001\n",
      "3       -1.0 -0.861711   -0.966146 -0.916618 -0.456079 -0.997659\n",
      "4       -1.0 -0.844425   -0.956354 -0.924482 -0.449160 -0.996605\n",
      "   Hydrofoil    Froude  Resistence   Sinkage      Trim     Power\n",
      "0          1  0.000000    0.000000  0.000000  0.000000  0.000000\n",
      "1          1  0.103733    2.549729 -0.689028  1.353022  0.950991\n",
      "2          1  0.124480    3.628461 -0.835413  1.346323  1.624000\n",
      "3          1  0.165973    6.374322 -1.864337  1.361538  3.803965\n",
      "4          1  0.186719    8.217973 -2.301539  1.378858  5.517212\n"
     ]
    }
   ],
   "source": [
    "# separa os dados em normatizados e originais\n",
    "DAT_OLD=[]\n",
    "DAT_OLD=Dat_Select.copy()\n",
    "DAT=Normatiza(Dat_Select)\n",
    "print(DAT.head())\n",
    "print(DAT_OLD.head())"
   ]
  },
  {
   "cell_type": "code",
   "execution_count": 9,
   "metadata": {},
   "outputs": [
    {
     "name": "stdout",
     "output_type": "stream",
     "text": [
      "    Hydrofoil    Froude  Resistence   Sinkage      Trim     Power\n",
      "34   0.333333 -0.481417   -0.265625 -0.705660  0.730920 -0.809583\n",
      "44   0.333333  0.866897    0.770833  0.832246  0.352717  0.652982\n",
      "36   0.333333 -0.135696   -0.078125 -0.054126  0.701848 -0.601610\n",
      "20  -0.333333 -0.481417   -0.273437 -0.673691  0.730444 -0.811609\n",
      "42   0.333333  0.728608    0.572917  0.758551  0.371806  0.359479\n",
      "==============\n",
      "47\n",
      "==============\n",
      "    Hydrofoil    Froude  Resistence   Sinkage      Trim     Power\n",
      "2   -1.000000 -0.896283   -0.980729 -0.898111 -0.462157 -0.999001\n",
      "9   -1.000000 -0.135696   -0.018750 -0.168314  0.796046 -0.575951\n",
      "11  -1.000000  0.210026    0.332812  0.151034  0.786861 -0.193631\n",
      "15  -1.000000  0.728608    0.626042  0.702954  0.911268  0.405395\n",
      "21  -0.333333 -0.308557   -0.179688 -0.365206  0.632251 -0.716400\n",
      "==============\n",
      "12\n"
     ]
    }
   ],
   "source": [
    "# separa os dados em treino e teste\n",
    "train=DAT.sample(frac=0.8,random_state=None) # poderia ser frac=0.5? sim ou nao?\n",
    "test=DAT.drop(train.index)\n",
    "print(train.head())\n",
    "print(\"==============\")\n",
    "print(train.shape[0])\n",
    "print(\"==============\")\n",
    "print(test.head())\n",
    "print(\"==============\")\n",
    "print(test.shape[0])"
   ]
  },
  {
   "cell_type": "code",
   "execution_count": 10,
   "metadata": {},
   "outputs": [
    {
     "name": "stdout",
     "output_type": "stream",
     "text": [
      "    Hydrofoil    Froude\n",
      "2   -1.000000 -0.896283\n",
      "9   -1.000000 -0.135696\n",
      "11  -1.000000  0.210026\n",
      "15  -1.000000  0.728608\n",
      "21  -0.333333 -0.308557\n",
      "    Hydrofoil    Froude\n",
      "34   0.333333 -0.481417\n",
      "44   0.333333  0.866897\n",
      "36   0.333333 -0.135696\n",
      "20  -0.333333 -0.481417\n",
      "42   0.333333  0.728608\n",
      "   Hydrofoil    Froude\n",
      "0          1  0.000000\n",
      "1          1  0.103733\n",
      "2          1  0.124480\n",
      "3          1  0.165973\n",
      "4          1  0.186719\n"
     ]
    }
   ],
   "source": [
    "# obtem as variaveis independentes (treino e teste)\n",
    "x_train=train.iloc[:,[0,1]]\n",
    "x_test=test.iloc[:,[0,1]]\n",
    "X_OLD=DAT_OLD.iloc[:,[0,1]]\n",
    "print(x_test.head())\n",
    "print(x_train.head())\n",
    "print(X_OLD.head())"
   ]
  },
  {
   "cell_type": "code",
   "execution_count": 11,
   "metadata": {},
   "outputs": [
    {
     "name": "stdout",
     "output_type": "stream",
     "text": [
      "    Resistence   Sinkage      Trim     Power\n",
      "2    -0.980729 -0.898111 -0.462157 -0.999001\n",
      "9    -0.018750 -0.168314  0.796046 -0.575951\n",
      "11    0.332812  0.151034  0.786861 -0.193631\n",
      "15    0.626042  0.702954  0.911268  0.405395\n",
      "21   -0.179688 -0.365206  0.632251 -0.716400\n",
      "    Resistence   Sinkage      Trim     Power\n",
      "34   -0.265625 -0.705660  0.730920 -0.809583\n",
      "44    0.770833  0.832246  0.352717  0.652982\n",
      "36   -0.078125 -0.054126  0.701848 -0.601610\n",
      "20   -0.273437 -0.673691  0.730444 -0.811609\n",
      "42    0.572917  0.758551  0.371806  0.359479\n",
      "   Resistence   Sinkage      Trim     Power\n",
      "0    0.000000  0.000000  0.000000  0.000000\n",
      "1    2.549729 -0.689028  1.353022  0.950991\n",
      "2    3.628461 -0.835413  1.346323  1.624000\n",
      "3    6.374322 -1.864337  1.361538  3.803965\n",
      "4    8.217973 -2.301539  1.378858  5.517212\n"
     ]
    }
   ],
   "source": [
    "# obtem as variaveis dependentes (treino e teste)\n",
    "Index=[2,3,4,5]\n",
    "y_train=train.iloc[:,Index]\n",
    "y_test=test.iloc[:,Index]\n",
    "Y_OLD=DAT_OLD.iloc[:,Index]\n",
    "print(y_test.head())\n",
    "print(y_train.head())\n",
    "print(Y_OLD.head())"
   ]
  },
  {
   "cell_type": "code",
   "execution_count": 12,
   "metadata": {},
   "outputs": [],
   "source": [
    "# define a rede neural \n",
    "clf = MLPRegressor(solver='lbfgs',activation='tanh',alpha=1e-5,hidden_layer_sizes=(9, 8), \n",
    "                    random_state=1)"
   ]
  },
  {
   "cell_type": "code",
   "execution_count": 13,
   "metadata": {},
   "outputs": [
    {
     "data": {
      "text/plain": [
       "MLPRegressor(activation='tanh', alpha=1e-05, batch_size='auto', beta_1=0.9,\n",
       "       beta_2=0.999, early_stopping=False, epsilon=1e-08,\n",
       "       hidden_layer_sizes=(9, 8), learning_rate='constant',\n",
       "       learning_rate_init=0.001, max_iter=200, momentum=0.9,\n",
       "       nesterovs_momentum=True, power_t=0.5, random_state=1, shuffle=True,\n",
       "       solver='lbfgs', tol=0.0001, validation_fraction=0.1, verbose=False,\n",
       "       warm_start=False)"
      ]
     },
     "execution_count": 13,
     "metadata": {},
     "output_type": "execute_result"
    }
   ],
   "source": [
    "# treina a rede neural\n",
    "clf.fit(x_train, y_train)"
   ]
  },
  {
   "cell_type": "code",
   "execution_count": 14,
   "metadata": {},
   "outputs": [],
   "source": [
    "# usa a rede neural treina em calculos para treino e teste\n",
    "y_calc_train=clf.predict(x_train)\n",
    "y_calc_test=clf.predict(x_test)"
   ]
  },
  {
   "cell_type": "code",
   "execution_count": 15,
   "metadata": {},
   "outputs": [
    {
     "name": "stdout",
     "output_type": "stream",
     "text": [
      "   Resistence   Sinkage      Trim     Power\n",
      "0   -0.347830 -0.765609  0.578869 -0.832271\n",
      "1    0.761697  0.821965  0.357362  0.631524\n",
      "2   -0.053095 -0.038357  0.780330 -0.604024\n",
      "3   -0.349773 -0.724958  0.444329 -0.828230\n",
      "4    0.583787  0.774502  0.402223  0.371054\n"
     ]
    }
   ],
   "source": [
    "# transforma a saida da rede em dataframe \n",
    "y_calc_train=pd.DataFrame(y_calc_train)\n",
    "y_calc_test=pd.DataFrame(y_calc_test)\n",
    "col_names=list(y_train)\n",
    "y_calc_train.columns = col_names\n",
    "y_calc_test.columns = col_names\n",
    "print(y_calc_train.head())"
   ]
  },
  {
   "cell_type": "code",
   "execution_count": 16,
   "metadata": {},
   "outputs": [
    {
     "name": "stdout",
     "output_type": "stream",
     "text": [
      "   Resistence    Sinkage      Trim        Power\n",
      "0    4.850712  -2.677035  0.918326     3.933827\n",
      "1  185.768249  40.595866  4.738046   731.871033\n",
      "2  228.502238  64.702780  4.759170  1222.242880\n",
      "3  319.494927  84.629823  4.567697  2390.859170\n",
      "4  157.026160  27.823479  4.096709   473.702198\n",
      "   Resistence    Sinkage      Trim        Power\n",
      "0  122.795648   6.531303  3.952210   272.568540\n",
      "1  331.705866  94.795489  3.397736  2651.313898\n",
      "2  178.290611  46.964266  4.456506   643.482028\n",
      "3  122.429746   8.791367  3.615431   279.135238\n",
      "4  298.207640  92.156709  3.510032  2228.036882\n"
     ]
    }
   ],
   "source": [
    "# transforma dos dados calculados na forma original (nao normatizado)\n",
    "y_calc_train=Original(y_calc_train,Y_OLD)\n",
    "y_calc_test=Original(y_calc_test,Y_OLD)\n",
    "print(y_calc_test.head())\n",
    "print(y_calc_train.head())"
   ]
  },
  {
   "cell_type": "code",
   "execution_count": 17,
   "metadata": {},
   "outputs": [],
   "source": [
    "# recupera os dados originais \n",
    "test=[]\n",
    "train=[]\n",
    "train=Original(y_train,Y_OLD)\n",
    "test=Original(y_test,Y_OLD)"
   ]
  },
  {
   "cell_type": "code",
   "execution_count": 18,
   "metadata": {},
   "outputs": [],
   "source": [
    "# escolhe uma das resposta para fazer o grafico (resistencia-treino)\n",
    "resist_obs_train=[]\n",
    "resist_calc_train=[]\n",
    "resist_calc_train=y_calc_train['Resistence'].copy()\n",
    "resist_obs_train=train['Resistence'].copy()"
   ]
  },
  {
   "cell_type": "code",
   "execution_count": 19,
   "metadata": {},
   "outputs": [
    {
     "name": "stdout",
     "output_type": "stream",
     "text": [
      "0      4.850712\n",
      "1    185.768249\n",
      "2    228.502238\n",
      "3    319.494927\n",
      "4    157.026160\n",
      "Name: Resistence, dtype: float64\n"
     ]
    }
   ],
   "source": [
    "# escolhe uma das resposta para fazer o grafico (resistencia-teste)\n",
    "resist_obs_test=[]\n",
    "resist_calc_test=[]\n",
    "resist_calc_test=y_calc_test['Resistence'].copy()\n",
    "resist_obs_test=test['Resistence'].copy()\n",
    "print(resist_calc_test.head())"
   ]
  },
  {
   "cell_type": "code",
   "execution_count": 20,
   "metadata": {},
   "outputs": [
    {
     "data": {
      "image/png": "[encoded data removed]",
      "text/plain": [
       "<matplotlib.figure.Figure at 0x7f7cca02aeb8>"
      ]
     },
     "metadata": {},
     "output_type": "display_data"
    }
   ],
   "source": [
    "# expressa os dois dados em figura\n",
    "fig = plt.figure()\n",
    "ax1 = fig.add_subplot(111)\n",
    "\n",
    "ax1.scatter(resist_obs_test,resist_calc_test, s=10, c='b', marker=\"s\", label='teste')\n",
    "ax1.scatter(resist_obs_train,resist_calc_train, s=10, c='r', marker=\"o\", label='treino')\n",
    "plt.legend(loc='upper left')\n",
    "plt.ylabel('Resist Calc')\n",
    "plt.xlabel('Resist Obs')\n",
    "plt.show()"
   ]
  },
  {
   "cell_type": "code",
   "execution_count": 21,
   "metadata": {},
   "outputs": [],
   "source": [
    "from sklearn.metrics import mean_squared_error\n",
    "from sklearn.metrics import r2_score "
   ]
  },
  {
   "cell_type": "code",
   "execution_count": 22,
   "metadata": {},
   "outputs": [
    {
     "name": "stdout",
     "output_type": "stream",
     "text": [
      "MSE teste= 188.577441827\n",
      "R^2 teste= 0.980039511731\n"
     ]
    }
   ],
   "source": [
    "mse=mean_squared_error(resist_obs_test,resist_calc_test)\n",
    "print(\"MSE teste=\",mse)\n",
    "R2=r2_score(resist_obs_test,resist_calc_test)\n",
    "print(\"R^2 teste=\",R2)"
   ]
  },
  {
   "cell_type": "code",
   "execution_count": 23,
   "metadata": {},
   "outputs": [
    {
     "name": "stdout",
     "output_type": "stream",
     "text": [
      "MSE treino= 76.5471897087\n",
      "R^2 treino= 0.99434591039\n"
     ]
    }
   ],
   "source": [
    "mse=mean_squared_error(resist_obs_train,resist_calc_train)\n",
    "print(\"MSE treino=\",mse)\n",
    "R2=r2_score(resist_obs_train,resist_calc_train)\n",
    "print(\"R^2 treino=\",R2)"
   ]
  }
 ],
 "metadata": {
  "kernelspec": {
   "display_name": "Python 3",
   "language": "python",
   "name": "python3"
  },
  "language_info": {
   "codemirror_mode": {
    "name": "ipython",
    "version": 3
   },
   "file_extension": ".py",
   "mimetype": "text/x-python",
   "name": "python",
   "nbconvert_exporter": "python",
   "pygments_lexer": "ipython3",
   "version": "3.5.4"
  }
 },
 "nbformat": 4,
 "nbformat_minor": 2
}
